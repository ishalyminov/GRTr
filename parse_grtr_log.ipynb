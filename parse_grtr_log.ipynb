{
 "cells": [
  {
   "cell_type": "code",
   "execution_count": 100,
   "metadata": {},
   "outputs": [],
   "source": [
    "import json\n",
    "import re\n",
    "import os"
   ]
  },
  {
   "cell_type": "code",
   "execution_count": 28,
   "metadata": {},
   "outputs": [],
   "source": [
    "LOGS = ['metalwoz_pure_ext_info.log', 'metalwoz_cross_ext_info.log', 'multiwoz_ext_info.log']\n",
    "TESTSPECS = ['datasets/dstc8-fast-adaptation-evaluation/test_spec_metalwoz_heldout_pure_task.jsonl',\n",
    "             'datasets/dstc8-fast-adaptation-evaluation/test_spec_metalwoz_heldout_cross_task.jsonl',\n",
    "             'datasets/dstc8-fast-adaptation-evaluation/test_spec_multiwoz2.0.jsonl']"
   ]
  },
  {
   "cell_type": "code",
   "execution_count": 90,
   "metadata": {},
   "outputs": [],
   "source": [
    "def parse_utterance(in_line):\n",
    "    line, _, _ = in_line.partition('INFO')\n",
    "    side, _, utterance = line.partition(':')\n",
    "    side = [token for token in side.split(' ') if token][-1]\n",
    "    utterance = utterance.strip()\n",
    "    return side, utterance"
   ]
  },
  {
   "cell_type": "code",
   "execution_count": 87,
   "metadata": {},
   "outputs": [],
   "source": [
    "def parse_candidate(in_line):\n",
    "    _, utterance_and_info = parse_utterance(in_line)\n",
    "    utterance, _, info = utterance_and_info.partition('[')\n",
    "    utterance = utterance.strip()\n",
    "    score, _, method = info.partition(']')\n",
    "    try:\n",
    "        score = float(score)\n",
    "    except:\n",
    "        score, method = None, None\n",
    "        return utterance, score, method\n",
    "    _, _, method = method.partition('[')\n",
    "    method = method.strip(']')\n",
    "    return utterance, score, method"
   ]
  },
  {
   "cell_type": "code",
   "execution_count": 64,
   "metadata": {},
   "outputs": [],
   "source": [
    "def get_dialogue_ids_from_testspec(in_testspec_file):\n",
    "    result = set([])\n",
    "    with open(in_testspec_file) as spec_in:\n",
    "        for line in spec_in:\n",
    "            line_json = json.loads(line)\n",
    "            result.add(line_json['target_dlg'])\n",
    "    return result"
   ]
  },
  {
   "cell_type": "code",
   "execution_count": 95,
   "metadata": {},
   "outputs": [],
   "source": [
    "def parse_log(in_lines, in_dialogue_ids):\n",
    "    predictions = []\n",
    "    broken_candidate = False\n",
    "    for line in in_lines:\n",
    "        line = line.replace('tri[', '')\n",
    "        for dialogue_id in in_dialogue_ids:\n",
    "            if dialogue_id in line:\n",
    "                predictions.append({'id': dialogue_id, 'input': [], 'target': '', 'candidates': []})\n",
    "                continue\n",
    "        if 'INPUT' in line:\n",
    "            # print('found INPUT line: ' + line)\n",
    "            side, utterance = parse_utterance(line)\n",
    "            predictions[-1]['input'].append({'side': side, 'utterance': utterance})\n",
    "            continue\n",
    "        if 'TARGET' in line:\n",
    "            # print('found TARGET line: ' + line)\n",
    "            _, utterance = parse_utterance(line)\n",
    "            predictions[-1]['target'] = utterance\n",
    "            continue\n",
    "        if 'CANDIDATE' in line:\n",
    "            # print('found CANDIDATE line: ' + line)\n",
    "            utterance, score, method = parse_candidate(line)\n",
    "            predictions[-1]['candidates'].append({'utterance': utterance,\n",
    "                                                  'score': score,\n",
    "                                                  'method': method})\n",
    "            continue\n",
    "        method_re_match = re.findall('\\[(retrieved|generated)\\]', line)\n",
    "        score_re_match = re.findall('\\[(-?\\d+(?:.\\d+)?)\\]', line)\n",
    "        if len(method_re_match) or len(score_re_match):\n",
    "            rest_of_utterance, _, _ = line.partition('[')\n",
    "            rest_of_utterance = rest_of_utterance.strip()\n",
    "            if rest_of_utterance and len(predictions) and len(predictions[-1]['candidates']):\n",
    "                print('fixed broken utterance: {} | {}'.format(predictions[-1]['candidates'][-1]['utterance'], rest_of_utterance))\n",
    "                predictions[-1]['candidates'][-1]['utterance'] = predictions[-1]['candidates'][-1]['utterance'].strip() + ' ' + rest_of_utterance\n",
    "        if len(method_re_match) and len(predictions) and len(predictions[-1]['candidates']) and predictions[-1]['candidates'][-1]['method'] is None:\n",
    "            predictions[-1]['candidates'][-1]['method'] = method_re_match[0]\n",
    "        if len(score_re_match) and len(predictions) and len(predictions[-1]['candidates']) and predictions[-1]['candidates'][-1]['score'] is None:\n",
    "            predictions[-1]['candidates'][-1]['score'] = float(score_re_match[0])\n",
    "    return predictions"
   ]
  },
  {
   "cell_type": "code",
   "execution_count": 96,
   "metadata": {},
   "outputs": [
    {
     "name": "stdout",
     "output_type": "stream",
     "text": [
      "fixed broken utterance: I am going to be in Toronto next week. I need 1 room with 2 beds. It also needs to be on the 2nd floor in a | downtown hotel.\n",
      "fixed broken utterance: I'm going to be visiting there soon, but I'm not too interested in the beaches or food attractions. What else is | good to see?\n",
      "fixed broken utterance: Oh that's a very popular place that I have seen pictures of. I'm interested in participating in on a group tour. | Are there any available for the Colosseum?\n",
      "fixed broken utterance: I'm going to be visiting there soon, but I'm not too interested in the beaches or food attractions. What else is | good to see?\n",
      "fixed broken utterance: I'm not really sure, we've already had pre-drinks and I forget where I am. I think I might be in Florida or | something.\n",
      "fixed broken utterance: I'm wanting to find some festivals going on on Montreal, Quebec, Canada during the summer. Something where a big | party is bound to happen.\n",
      "fixed broken utterance: I am going on vacation there in a couple of weeks and am looking for things to do, but I don't really care for | beaches or food places. What else\n",
      "fixed broken utterance: Oh actually I think I'm laying on my bed drinking now, I must be drunk hahaha. No wonder it was still dark. | Nevermind!\n",
      "fixed broken utterance: No. I don't want to book a flight right now. I'm more looking for flight information, times, and air ports and | any other information\n",
      "fixed broken utterance: No. I don't want to actually book a flight right now. I was just curious about how much it would be and what it | would cost.\n",
      "fixed broken utterance: I have five days of vacation coming up that I have to use. I want to go somewhere warm. Do you have any | suggestions?\n",
      "fixed broken utterance: I have five days of vacation coming up that I have to use. I want to go somewhere warm. Do you have any | suggestions?\n",
      "fixed broken utterance: I don't know yet. I am trying to decide based on how many museums there are. I want to go to a city that has | lots.\n",
      "fixed broken utterance: I want to go to a place that has lots of good museums for my upcoming summer vacation. Do you have any | suggestions?\n",
      "fixed broken utterance: Hawaii is probably a bit too expensive for me, but Miami isn't far away. That sounds nice! Are there any | specific hotels you would recommend?\n",
      "fixed broken utterance: I would love to go to Vegas, but I've made some questionable life decisions. Do you have any ideas on a good | place to bring kids?\n",
      "fixed broken utterance: Great. How about a different location... Do you know any good places with museums in the Mexican state of Baja, | California?\n",
      "fixed broken utterance: Thanks, once these reservations are canceled I will need to reschedule for a new time. Can you check my | calendar, and tell me if I have an opening to make\n",
      "fixed broken utterance: Nest Saturaday and Sunday. We will check in Saturday afternoon. If possible, I would like to have the rooms as | close together as possible. At least on the same floor.\n",
      "fixed broken utterance: But first, I need to cancel the reservations that I already made Are you able to help me with cancelling my | previous reservation?\n",
      "fixed broken utterance: I'm looking for a specific movie starring Uma Thurman and Samuel Jackson but I can't recall the name. Do you | know which movie that would be?\n",
      "fixed broken utterance: I'm looking for a specific movie starring Uma Thurman and Samuel Jackson but I can't recall the name. Do you | know which movie that would be?\n",
      "fixed broken utterance: No, I don't want a flight right now. I just want to know what I have to do, and maybe how much money they | usually run.\n",
      "fixed broken utterance: That's way less than I expected! I don't want to actually book the flight right now those, just checking things | out.\n",
      "fixed broken utterance: I've never been so I'm not sure? I would love to walk around and site see certain places and go to museums as | well\n",
      "fixed broken utterance: Rome I am interested in learning of its history. Do you know any places in particular that I should to get such | information\n",
      "fixed broken utterance: Unfortunately neither of those is for me. I'm albino so I have to stay out of the sun and I have a number of | digestive issues so eating for pleasure\n",
      "fixed broken utterance: I'm gonna go to Montreal in Canada during the summer. What's a good festival that's happening? Need something | exciting with some booze.\n",
      "fixed broken utterance: But where exactly would be a great spot for history in Rome? I'd like to know because I'm going there for a | vacation in three weeks.\n",
      "fixed broken utterance: I'm going to be vising there soon. I would be interested in visiting some of the more historic locations. Can | you tell me what some of those might be?\n",
      "fixed broken utterance: Well, I am going to be there the last two weeks of July this summer. I want to know if there are any good | festivals going on there around that\n",
      "fixed broken utterance: That sounds interesting. Are there other good attractions? I'm not really interested in the beach or | restaurants.\n",
      "fixed broken utterance: I'm going to Miami and I'm wondering what there is to do there. I'm not big I'm going to restaurants nor beaches | *in going to\n",
      "fixed broken utterance: To Rome!! It has taken me years to save for the trip. But, I finally did it. I need some great advice on what | things to see.\n",
      "fixed broken utterance: I'm not really interested in the beaches or food but I do enjoy the nightlife. Any good bar or club | recommendations?\n",
      "fixed broken utterance: I thinking somewhere warm, and I enjoy hiking and camping sounds nice too but maybe one 2 nights the others in a | hotel\n",
      "fixed broken utterance: I want to go to a place that has lots of good museums for my upcoming summer vacation. Do you have any | suggestions?\n",
      "fixed broken utterance: Yeah, they would love that. Maybe I could combine a day at the waterpark with camping - keep expenses down. Do | you have any other ideas?\n",
      "fixed broken utterance: An Island would be nice. Is there one with all inclusive packages that I could book for two people for less than | $1500 each?\n",
      "fixed broken utterance: I thinking somewhere warm, and I enjoy hiking and camping sounds nice too but maybe one 2 nights the others in a | hotel\n",
      "fixed broken utterance: Well, you see.. I have five days of vacation happening after tomorrow. I want to know a warm place that I can go | to for those five days.\n",
      "fixed broken utterance: Yeah, they would love that. Maybe I could combine a day at the waterpark with camping - keep expenses down. Do | you have any other ideas?\n",
      "fixed broken utterance: I'm not looking for anything specific, but I would like to find a good place to bring my kids to. Something with | a lot of activities to try.\n",
      "fixed broken utterance: I want to go to a place that has lots of good museums for my upcoming summer vacation. Do you have any | suggestions?\n",
      "fixed broken utterance: Anywhere where there's a lot of good museums. That's my main thing trying to get you to tell me where all the | good museums are\n",
      "fixed broken utterance: I 'd like to book 3 tickets on the train arriving at 19:08, please. And would it be possible to have a reference | number for the booking?\n",
      "fixed broken utterance: Yes please book a seat for me. And can you tell me if there are any african restaurants in ely near the train | station?\n",
      "fixed broken utterance: I 'd like to book 3 tickets on the train arriving at 19:08, please. And would it be possible to have a reference | number for the booking?\n",
      "fixed broken utterance: I don't actually need to book at the moment. I just need to know the departure time and travel time for this | train, if you don't\n",
      "fixed broken utterance: I 'd like to book 3 tickets on the train arriving at 19:08, please. And would it be possible to have a reference | number for the booking?\n",
      "fixed broken utterance: Sorry about the confusion, I just need a train from Steveage to Cambridge that arrives by 11:45. I just need the | train ID.\n",
      "fixed broken utterance: The train should depart from Cambridge on Wednesday and headed for Stansted Airport. It should arrive by 15:15. | I would also like you to make a booking for\n",
      "fixed broken utterance: Entrance fee doesn't really matter to me. Pick your favorite and let me know the postcard, area, and phone | number please.\n"
     ]
    },
    {
     "name": "stdout",
     "output_type": "stream",
     "text": [
      "fixed broken utterance: I 'd like to go to a museum. Can you tell me your favorite? And if you have their phone number that would be | really great.\n",
      "fixed broken utterance: The amount of stars don't matter as long as it is in the same price range Does Worth House in the North include | free parking?\n",
      "fixed broken utterance: I think I would like it near the centre. Does it have free parking? I would like the price range to be cheap but | at least a 3\n",
      "fixed broken utterance: Just gathering information about the hotel first. Could you tell me what area of the city they're in, the price, | and if they have internet connectivity\n",
      "fixed broken utterance: Money is no object, but I 'd like it to be a 4 star location please. And I 'd only like to stay on the north | side of\n",
      "fixed broken utterance: Are you sure, but if not, book the Super 5 for 8 people for 5 nights starting Monday. I will need the reference | number.\n",
      "fixed broken utterance: I don't really have a price range. Anything is fine. I would like it to have free parking and wifi, though. And | of course,\n",
      "fixed broken utterance: I 'd like to be in the north, and I need a place with free parking. I 'd also like to keep the price to a | moderate range\n",
      "fixed broken utterance: One person for two nights and need the reference number. Also want to reserve a table at Travellers Rest for one | on Monday at 13:45, the reference number\n",
      "fixed broken utterance: So is the name of the hotel Express by Holiday Inn Cambridge or just Holiday Inn Cambridge? Want to make sure I | go to the right one!\n",
      "fixed broken utterance: I 'd prefer something in the same price range as the Marriott. It's all going on an expense report anyway, no | reason to be stingy.\n",
      "fixed broken utterance: I 'd like to book this hotel. I need a room for 4 people for 3 nights starting on wednesday. I require a | reference number.\n",
      "fixed broken utterance: A hotel please. I would like to book it for 6 people for 5 nights starting Friday. I will need a reference | number too.\n",
      "fixed broken utterance: One person for two nights and need the reference number. Also want to reserve a table at Travellers Rest for one | on Monday at 13:45, the reference number\n",
      "fixed broken utterance: I don't really have a price range. Anything is fine. I would like it to have free parking and wifi, though. And | of course,\n",
      "fixed broken utterance: Not worried about parking. I am looking for a hotel that would be available starting Monday for 4 nights for 6 | people.\n",
      "fixed broken utterance: Yes, I would like free parking. I don't care whether it's a guesthouse or hotel, though. Could you suggest a | place?\n",
      "fixed broken utterance: I need help finding huntingdon marriott hotel please. Could you book a room for me for 6 people on monday for 5 | nights please?\n",
      "fixed broken utterance: Okay, I 'd like to book a room at the Gonville Hotel for 4 nights. There will be 6 people and we will be | arriving on Saturday.\n",
      "fixed broken utterance: It does not need to be a guesthouse. Can't you find anything that is east, 4 star with free wifi. That is all I | require.\n",
      "fixed broken utterance: I think I would like it near the centre. Does it have free parking? I would like the price range to be cheap but | at least a 3\n",
      "fixed broken utterance: Not worried about parking. I am looking for a hotel that would be available starting Monday for 4 nights for 6 | people.\n",
      "fixed broken utterance: Yes please. An expensive hotel in the north with free parking and free internet. Can you book the room for me | please?\n",
      "fixed broken utterance: I guess it's OK if they have it, as long as they won't charge me for not using it. But 4-star accommodations are | a must.\n",
      "fixed broken utterance: I'm sorry I need to change that. I need the taxi to depart from kings lynn train station and go to cherry hinton | water play.\n",
      "fixed broken utterance: The taxi should arrive by 20:00 and please also let me know what type of car will pick me up and give me the | contact number of the driver.\n",
      "fixed broken utterance: Sorry, it actually does not matter when I arrive. I just want to leave after 15:15. And I 'll be coming from la | tasca.\n",
      "fixed broken utterance: I will depart from saffron brasserie at 7:15. What is the car type and contact number so I know who and where | you will pick me up?\n",
      "fixed broken utterance: I 'll need to be picked up at holy trinity church. If you've got it handy I 'll be needing the car type and | their contact number too\n",
      "fixed broken utterance: I will be departing from Abbey Pool and Astroturf Pitch. In addition, I would like the car type and its contact | number.\n",
      "fixed broken utterance: I would like a taxi departing from city centre north b and b and arriving at the place. I would like to arrive | by 8:00.\n",
      "fixed broken utterance: I will be departing from Abbey Pool and Astroturf Pitch. In addition, I would like the car type and its contact | number.\n",
      "fixed broken utterance: I need to be picked up from curry prince. Please let me know what kind of car to expect and a number they can be | reached at.\n",
      "fixed broken utterance: The restaurant should be in the south, and should serve eastern European food if there is a restaurant like | that.\n",
      "fixed broken utterance: Actually, scratch that, I don't want to book the restaurant. Could you give me the phone number for the Golden | House?\n",
      "fixed broken utterance: If one of them has a moderate price range please give me that address. If not tell me about Turkish restaurants | instead.\n",
      "fixed broken utterance: Surprise me, I just need the booking for 8 people Monday at 18:00. Please provide me with a reference number for | this booking.\n",
      "fixed broken utterance: I think that sounds good. Can you go ahead and book that for me? I need it for 1 person on Wednesday at 14:00. | Can I also\n",
      "fixed broken utterance: If there is one that you know of that you recommend, that would be fine. I don't know any, so some guidance | would be great.\n",
      "fixed broken utterance: Yes, I would. Please reserve a table for 4 at 17:30 on Thursday. I would like the reference number as well, | please.\n",
      "fixed broken utterance: OK, can you book a table for 6 at 12:00 on Tuesday at The Varsity Restaurant? I will need a reference number | too, please.\n",
      "fixed broken utterance: Yes, I would like to be booked for a table for 8 on 19:45 on a Saturday, and could I also get the reference | number?\n",
      "fixed broken utterance: Actually, I just found out that another couple will be joining us and we 'd like to eat at 17:15. Can you make | me a reservation for 4\n",
      "fixed broken utterance: Yes, I would like to be booked for a table for 8 on 19:45 on a Saturday, and could I also get the reference | number?\n",
      "fixed broken utterance: No 14:45 is the only time that works for all of us. Could you look for a different restaurant in the same area | and price range for me?\n",
      "fixed broken utterance: I think that sounds good. Can you go ahead and book that for me? I need it for 1 person on Wednesday at 14:00. | Can I also\n",
      "fixed broken utterance: No, the area does not matter. I need a table for 5 people at 12:15 on Friday. If that time doesn't work then | 11:15. I\n",
      "fixed broken utterance: Yes, I would. Please reserve a table for 4 at 17:30 on Thursday. I would like the reference number as well, | please.\n"
     ]
    }
   ],
   "source": [
    "parsed_logs = {}\n",
    "for log, spec in zip(LOGS, TESTSPECS):\n",
    "    with open(log) as log_in:\n",
    "        parse_i = parse_log(log_in, get_dialogue_ids_from_testspec(spec))\n",
    "        parsed_logs[log] = parse_i"
   ]
  },
  {
   "cell_type": "code",
   "execution_count": 97,
   "metadata": {},
   "outputs": [
    {
     "data": {
      "text/plain": [
       "{'id': '6e759078',\n",
       " 'input': [{'side': 'Wizard', 'utterance': 'Hello how may I help you?'},\n",
       "  {'side': 'User', 'utterance': 'I need help on a reservation'},\n",
       "  {'side': 'Wizard', 'utterance': 'What is it about >'}],\n",
       " 'target': 'I have a reservation at a hotel in NYC that I want to cancel',\n",
       " 'candidates': [{'utterance': 'I already have reservations at a hotel in New York City. I need to get them canceled.',\n",
       "   'score': 1.128,\n",
       "   'method': 'retrieved'},\n",
       "  {'utterance': 'I need to cancel the reservation',\n",
       "   'score': 0.614,\n",
       "   'method': 'generated'}]}"
      ]
     },
     "execution_count": 97,
     "metadata": {},
     "output_type": "execute_result"
    }
   ],
   "source": [
    "parsed_logs['metalwoz_pure_ext_info.log'][1]"
   ]
  },
  {
   "cell_type": "code",
   "execution_count": 98,
   "metadata": {},
   "outputs": [],
   "source": [
    "for dataset, predictions in parsed_logs.items():\n",
    "    for prediction in predictions:\n",
    "        for candidate in prediction['candidates']:\n",
    "            assert candidate['score'] is not None and candidate['method'] is not None, candidate"
   ]
  },
  {
   "cell_type": "code",
   "execution_count": 103,
   "metadata": {},
   "outputs": [],
   "source": [
    "for dataset, predictions in parsed_logs.items():\n",
    "    dataset_name, _ = os.path.splitext(dataset)\n",
    "    with open(dataset_name + '_parsed.json', 'w') as parsed_out:\n",
    "        json.dump(predictions, parsed_out)"
   ]
  }
 ],
 "metadata": {
  "kernelspec": {
   "display_name": "Python 3",
   "language": "python",
   "name": "python3"
  },
  "language_info": {
   "codemirror_mode": {
    "name": "ipython",
    "version": 3
   },
   "file_extension": ".py",
   "mimetype": "text/x-python",
   "name": "python",
   "nbconvert_exporter": "python",
   "pygments_lexer": "ipython3",
   "version": "3.7.0"
  }
 },
 "nbformat": 4,
 "nbformat_minor": 4
}
