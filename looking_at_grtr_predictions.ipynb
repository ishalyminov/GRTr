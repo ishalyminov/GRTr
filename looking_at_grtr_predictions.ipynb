{
 "cells": [
  {
   "cell_type": "code",
   "execution_count": 103,
   "metadata": {},
   "outputs": [],
   "source": [
    "import json\n",
    "\n",
    "import numpy as np\n",
    "import matplotlib.pyplot as plt\n",
    "import nlgeval"
   ]
  },
  {
   "cell_type": "code",
   "execution_count": 104,
   "metadata": {},
   "outputs": [],
   "source": [
    "NLGEVAL = nlgeval.NLGEval(no_skipthoughts=True, no_glove=True)"
   ]
  },
  {
   "cell_type": "code",
   "execution_count": 105,
   "metadata": {},
   "outputs": [],
   "source": [
    "def get_min_max_candidates(in_distances, top_n=10):\n",
    "    sorted_distances = list(sorted(in_distances, key=lambda x: x[1]))\n",
    "    return {'min': sorted_distances[:top_n], 'max': sorted_distances[-top_n:][::-1]}"
   ]
  },
  {
   "cell_type": "code",
   "execution_count": 106,
   "metadata": {},
   "outputs": [],
   "source": [
    "def get_candidate_distances(in_predictions):\n",
    "    distances = []\n",
    "    for pred in in_predictions:\n",
    "        scores = list(map(lambda x: x['score'], pred['candidates']))\n",
    "        if not len(scores):\n",
    "            distance = None\n",
    "        else:\n",
    "            min_score, max_score = min(scores), max(scores)\n",
    "            distance = abs(max_score - min_score)\n",
    "        distances.append(distance)\n",
    "    return distances"
   ]
  },
  {
   "cell_type": "code",
   "execution_count": 107,
   "metadata": {},
   "outputs": [],
   "source": [
    "def print_prediction(in_prediction):\n",
    "    print('ID: ', in_prediction['id'])\n",
    "    print('INPUT:')\n",
    "    for turn in in_prediction['input']:\n",
    "        print('{}: {}'.format(turn['side'], turn['utterance']))\n",
    "    print('TARGET:')\n",
    "    print(in_prediction['target'])\n",
    "    print('CANDIDATES:')\n",
    "    for cand_turn in in_prediction['candidates']:\n",
    "        print('{} [{}] [{}]'.format(cand_turn['utterance'], cand_turn['score'], cand_turn['method']))"
   ]
  },
  {
   "cell_type": "code",
   "execution_count": 108,
   "metadata": {},
   "outputs": [],
   "source": [
    "LOG_FILES = ['metalwoz_pure_ext_info_parsed.json', 'metalwoz_pure_ext_info_parsed.json', 'multiwoz_ext_info_parsed.json']"
   ]
  },
  {
   "cell_type": "code",
   "execution_count": 109,
   "metadata": {},
   "outputs": [],
   "source": [
    "logs = []\n",
    "for log_file in LOG_FILES:\n",
    "    with open(log_file) as log_in:\n",
    "        logs.append(json.load(log_in))"
   ]
  },
  {
   "cell_type": "markdown",
   "metadata": {},
   "source": [
    "# MetaLWOz pure task"
   ]
  },
  {
   "cell_type": "code",
   "execution_count": 110,
   "metadata": {},
   "outputs": [],
   "source": [
    "log = logs[0]\n",
    "distances = get_candidate_distances(log)\n",
    "non_zero_dist_preds = [(pred, dist) for pred, dist in zip(log, distances) if 1e-7 < abs(dist)]\n",
    "min_max_preds = get_min_max_candidates(non_zero_dist_preds)\n",
    "non_zero_distances = [dist for _, dist in non_zero_dist_preds]"
   ]
  },
  {
   "cell_type": "code",
   "execution_count": 111,
   "metadata": {},
   "outputs": [
    {
     "name": "stdout",
     "output_type": "stream",
     "text": [
      "0.0009999999999998899\n",
      "16.143\n"
     ]
    }
   ],
   "source": [
    "print(min(non_zero_distances))\n",
    "print(max(non_zero_distances))"
   ]
  },
  {
   "cell_type": "markdown",
   "metadata": {},
   "source": [
    "### Number of predictions with identical gen and ret candidates"
   ]
  },
  {
   "cell_type": "code",
   "execution_count": 112,
   "metadata": {},
   "outputs": [
    {
     "name": "stdout",
     "output_type": "stream",
     "text": [
      "Identical gen/ret predictions: 16 (0.7%)\n"
     ]
    }
   ],
   "source": [
    "zero_distances_num = len(distances) - len(non_zero_distances)\n",
    "print('Identical gen/ret predictions: {} ({:.1f}%)'.format(zero_distances_num,\n",
    "                                                           100.0 * zero_distances_num / len(distances)))"
   ]
  },
  {
   "cell_type": "markdown",
   "metadata": {},
   "source": [
    "### Predictions with 10 closest retrieved/generated pairs"
   ]
  },
  {
   "cell_type": "code",
   "execution_count": 113,
   "metadata": {
    "scrolled": false
   },
   "outputs": [
    {
     "name": "stdout",
     "output_type": "stream",
     "text": [
      "ID:  a3cf47bc\n",
      "INPUT:\n",
      "Wizard: Hello how may I help you?\n",
      "User: i'm trying to book rooms\n",
      "Wizard: for where?\n",
      "User: I need a few hotel rooms in Tucson\n",
      "Wizard: how many total rooms?\n",
      "TARGET:\n",
      "I need ten rooms\n",
      "CANDIDATES:\n",
      "Five rooms [2.794] [generated]\n",
      "I need 4 rooms on the same floor [2.793] [retrieved]\n",
      "\n",
      "ID:  2cebd403\n",
      "INPUT:\n",
      "Wizard: Hello how may I help you?\n",
      "User: Want some info about Cyprus.\n",
      "Wizard: What would you like to know about Cyprus?\n",
      "TARGET:\n",
      "What's best time to visit there?\n",
      "CANDIDATES:\n",
      "What is the best time to visit? [1.088] [generated]\n",
      "What is the best time to visit Cyprus? [1.087] [retrieved]\n",
      "\n",
      "ID:  a40b267c\n",
      "INPUT:\n",
      "Wizard: Hello how may I help you?\n",
      "User: quick question\n",
      "Wizard: Sure, what would you like to know?\n",
      "User: where do i go in rome to learn about history?\n",
      "Wizard: You might want to visit a place called Lou's. It's a museum full of historical artifacts.\n",
      "User: any other museums?\n",
      "Wizard: Sure, there is a wonderful art museum Plaza de Art\n",
      "User: thanks!\n",
      "Wizard: anything else I can help you with?\n",
      "TARGET:\n",
      "thats all\n",
      "CANDIDATES:\n",
      "nothing thanks [1.119] [retrieved]\n",
      "no thanks [1.113] [generated]\n",
      "\n",
      "ID:  d8134135\n",
      "INPUT:\n",
      "Wizard: Hello how may I help you?\n",
      "User: I have concern\n",
      "Wizard: what is it?\n",
      "User: I wanna book a flight\n",
      "Wizard: to where?\n",
      "TARGET:\n",
      "Somewhere in Europe\n",
      "CANDIDATES:\n",
      "Europe. [1.851] [retrieved]\n",
      "To Europe. [1.844] [generated]\n",
      "\n",
      "ID:  66458e89\n",
      "INPUT:\n",
      "Wizard: Hello how may I help you?\n",
      "User: I need some help.\n",
      "Wizard: yes, how can i help you?\n",
      "User: I'm going to Montreal, and good festivals?\n",
      "Wizard: yes, there will have music festivals and dancing party. and wine testing party.\n",
      "User: In the summer?\n",
      "Wizard: yes, it will in the august.\n",
      "User: September?\n",
      "Wizard: there only have wine testing party for september.\n",
      "TARGET:\n",
      "Bummer\n",
      "CANDIDATES:\n",
      "That sounds interesting. Can you book me for that day? [-1.274] [retrieved]\n",
      "ok thanks [-1.282] [generated]\n",
      "\n",
      "ID:  17d363c4\n",
      "INPUT:\n",
      "Wizard: Hello how may I help you?\n",
      "User: hi can you please give me some vacation ideas?\n",
      "Wizard: sure, what type of vacation do you like?\n",
      "User: for a family trip? it's for the kids mostly\n",
      "Wizard: okay sure, wait a moment\n",
      "User: thanks\n",
      "Wizard: theres available near you, would you like to go there?\n",
      "User: What do you mean. I don't understand.\n",
      "Wizard: about 3 miles away from you\n",
      "TARGET:\n",
      "What is?\n",
      "CANDIDATES:\n",
      "What is the best place to bring kids? [-1.22] [generated]\n",
      "Great, thanks for all the help! [-1.228] [retrieved]\n",
      "\n",
      "ID:  a9d6bba6\n",
      "INPUT:\n",
      "Wizard: Hello how may I help you?\n",
      "User: Are there any good festivals in Montreal this summer\n",
      "Wizard: which kind of festival? music?\n",
      "User: any kind\n",
      "Wizard: there is a rock festival in July 15th\n",
      "User: do you know whos playing\n",
      "Wizard: eagles\n",
      "User: great i love them\n",
      "Wizard: anything else?\n",
      "TARGET:\n",
      "how much are tickets\n",
      "CANDIDATES:\n",
      "no [2.92] [generated]\n",
      "nope that's all thanks [2.911] [retrieved]\n",
      "\n",
      "ID:  2391a847\n",
      "INPUT:\n",
      "Wizard: Hello how may I help you?\n",
      "User: I need some ideas\n",
      "Wizard: Sure About what >\n",
      "User: Where's a good place to bring kids for vacation\n",
      "Wizard: I highly suggest Disney Land\n",
      "User: That's a good idea. When is a good time for us to go? When it's not so hot?\n",
      "Wizard: But the place is vey expensive\n",
      "TARGET:\n",
      "Yeah, I'm okay with that\n",
      "CANDIDATES:\n",
      "Oh I know we'd never go if we didn't get a Florida discount on tickets [0.384] [retrieved]\n",
      "I don't think that's a good idea. What are the best places to bring kids? [0.375] [generated]\n",
      "\n",
      "ID:  7f696982\n",
      "INPUT:\n",
      "Wizard: Hello how may I help you?\n",
      "User: I need some vacation ideas.\n",
      "Wizard: okay where do you want to go?\n",
      "TARGET:\n",
      "Someplace warm.\n",
      "CANDIDATES:\n",
      "I need somewhere warm. [1.85] [generated]\n",
      "I haven't decided yet. Some place warm. [1.839] [retrieved]\n",
      "\n",
      "ID:  8b72fe9b\n",
      "INPUT:\n",
      "Wizard: Hello how may I help you?\n",
      "User: I need to book a flight and i need it by tonight\n",
      "Wizard: Ok, book a flight, it will be expensive at this late date\n",
      "User: Book me a flight to hawaii for 2 people leaving tonight\n",
      "Wizard: Ok, let me see what I have, I have two tickets for 100,000 dollars\n",
      "TARGET:\n",
      "Book it. Money is no limit\n",
      "CANDIDATES:\n",
      "Sounds good I'll take them [0.819] [retrieved]\n",
      "Money is not a problem for us [0.805] [generated]\n",
      "\n"
     ]
    }
   ],
   "source": [
    "min_preds = min_max_preds['min']\n",
    "for pred, _ in min_preds:\n",
    "    print_prediction(pred)\n",
    "    print('')"
   ]
  },
  {
   "cell_type": "markdown",
   "metadata": {},
   "source": [
    "### Prediction with the most distant retrieved and generated scores"
   ]
  },
  {
   "cell_type": "code",
   "execution_count": 114,
   "metadata": {
    "scrolled": false
   },
   "outputs": [
    {
     "name": "stdout",
     "output_type": "stream",
     "text": [
      "ID:  c9595979\n",
      "INPUT:\n",
      "Wizard: Hello how may I help you?\n",
      "User: I need some tourism help.\n",
      "Wizard: where would you like to travel to?\n",
      "User: Montreal. I''m going there this summer. Where are some good spots to go?\n",
      "Wizard: it depends on how much your are willing ti spent.\n",
      "User: Well, I'm looking for some festivals in the area around that time. Can you just give me some suggestions?\n",
      "Wizard: what is your budget?\n",
      "TARGET:\n",
      "Budget doesn't matter. I just want to know where I can go.\n",
      "CANDIDATES:\n",
      "My budget is $15.00 per ticket. [2.109] [generated]\n",
      "Great! Thanks so muvh [-14.034] [retrieved]\n",
      "\n",
      "ID:  7596b1d7\n",
      "INPUT:\n",
      "Wizard: Hello how may I help you?\n",
      "User: Hello. I need to book a flight for two\n",
      "Wizard: ok where are you going?\n",
      "User: I will be heading to Hawaii and I need to leave tonight\n",
      "Wizard: will you be bringing extra luggage?\n",
      "User: No, I will need first class seats. Money is no object\n",
      "Wizard: i have 2 tickets for $50,000\n",
      "User: Okay, that will be fine. Please purchase with my credit card on file\n",
      "Wizard: just to verify, what is the last 2 digits of your credit card?\n",
      "TARGET:\n",
      "The last two digits of my credit card are 00\n",
      "CANDIDATES:\n",
      "The last 2 digits are: 5555 [5.081] [generated]\n",
      "Sure. Just sent it to my email. Thanks! [-9.761] [retrieved]\n",
      "\n",
      "ID:  2328e2e3\n",
      "INPUT:\n",
      "Wizard: Hello how may I help you?\n",
      "User: I need to cancel a reservation for a hotel in New York City\n",
      "Wizard: Im sorry i can not do that for you, you will need to call the hotel directly\n",
      "User: Okay. Can you give me the number for the Central Park Plaza Hotel in NYC?\n",
      "Wizard: Just a second\n",
      "User: Okay.\n",
      "Wizard: The number is 265-569-7894\n",
      "User: Thanks. Can you book hotels in Europe?\n",
      "Wizard: Yes i can, what country in Europe?\n",
      "TARGET:\n",
      "None in particular, I was just curious if you were an international booking agent. Thanks for the info.\n",
      "CANDIDATES:\n",
      "Spain. [4.42] [generated]\n",
      "Got it thank you [-10.174] [retrieved]\n",
      "\n",
      "ID:  cb0a340f\n",
      "INPUT:\n",
      "Wizard: Hello how may I help you?\n",
      "User: hi i need some help with booking a hotel room.\n",
      "Wizard: I am designed to help with hotel bookings.\n",
      "TARGET:\n",
      "great. i need a room in a hotel in downtown toronto. are there any options below $150?\n",
      "CANDIDATES:\n",
      "alright i need to book a room with two beds on the second floor of a hotel in downtown Toronto [2.761] []\n",
      "Thanks [-11.62] [retrieved]\n",
      "\n",
      "ID:  b7c1d559\n",
      "INPUT:\n",
      "Wizard: Hello how may I help you?\n",
      "User: I need an idea.\n",
      "Wizard: Sure, what's up?\n",
      "User: Can use advise me on a vacation spot?\n",
      "Wizard: Yes. Disney World and Disney Land are always fun for children and adults, but it's really expensive\n",
      "User: Anything closer?\n",
      "Wizard: Have you ever been to Niagara Falls?\n",
      "User: Yes,but that's too far away.\n",
      "Wizard: Where is your location?\n",
      "TARGET:\n",
      "Nebraska\n",
      "CANDIDATES:\n",
      "I'm in New York. [3.711] [generated]\n",
      "ok, thanks [-9.605] [retrieved]\n",
      "\n",
      "ID:  8a759663\n",
      "INPUT:\n",
      "Wizard: Hello how may I help you?\n",
      "User: I need to get some hotel rooms.\n",
      "Wizard: Okay, how many rooms do you need?\n",
      "User: I need three I guess. They need to all be on the same floor.\n",
      "Wizard: I'm sorry we don't have 3 rooms vacant on the same floor. We do have 3 vacancies but they would have to be on\n",
      "User: Well, that's not optimal, but if that's the only option I guess I'll take it.\n",
      "Wizard: Okay, what is the name that will be checking in?\n",
      "User: Max Bialystok.\n",
      "Wizard: Okay Max, and what time will you be checking in?\n",
      "TARGET:\n",
      "11 AM.\n",
      "CANDIDATES:\n",
      "5:00 PM. [6.773] [generated]\n",
      "I would like the rooms reserved for May 4th to May 6h [-6.404] [retrieved]\n",
      "\n",
      "ID:  189acc1e\n",
      "INPUT:\n",
      "Wizard: Hello how may I help you?\n",
      "User: I need to book a room for me\n",
      "Wizard: OK. Where do you want to stay?\n",
      "User: In downtown Toronto\n",
      "Wizard: And for what dates would you like the room?\n",
      "User: I need a 2 bedroom on the second floor I'd like to stay for this weekend\n",
      "Wizard: And how many people will be in your party?\n",
      "TARGET:\n",
      "2\n",
      "CANDIDATES:\n",
      "Just myself and a few friends please [3.82] [generated]\n",
      "Price isn't a concern. I would like a room on the second floor with 2 beds if that helps. [-9.183] [retrieved]\n",
      "\n",
      "ID:  174602b7\n",
      "INPUT:\n",
      "Wizard: Hello how may I help you?\n",
      "User: I need some ideas.\n",
      "Wizard: Okay, what about?\n",
      "User: I'm going to be taking my vacation soon\n",
      "Wizard: Where will you like to go?\n",
      "TARGET:\n",
      "I need someone good for the kids. somewhere*\n",
      "CANDIDATES:\n",
      "Well, I'm going to be in Miami [2.13] [generated]\n",
      "yes please. [-10.672] [retrieved]\n",
      "\n",
      "ID:  c8322f9b\n",
      "INPUT:\n",
      "Wizard: Hello how may I help you?\n",
      "User: hello, I need tourism advise\n",
      "Wizard: I can set you up.\n",
      "User: what is the best time to visit cyptus? cyprus\n",
      "Wizard: Early summer is the best if you ask me.\n",
      "User: ok thank you.\n",
      "Wizard: Right now is a really good time. Do you have time off soon?\n",
      "User: yes, i am planning to go there at summer.\n",
      "Wizard: How many vacation days have you got piled up?\n",
      "TARGET:\n",
      "2 weeks. thank you.\n",
      "CANDIDATES:\n",
      "i only have vacation days, i need to look forward to the trip. [3.723] [generated]\n",
      "thank you for your help [-8.222] [retrieved]\n",
      "\n",
      "ID:  46902c61\n",
      "INPUT:\n",
      "Wizard: Hello how may I help you?\n",
      "User: I have 5 days of vacation next month I would like to go somewhere\n",
      "Wizard: Do you have any favorite places you have in mind?\n",
      "User: Anywhere in colorado, wyoming, montana\n",
      "Wizard: Let me look that up for you! If you're planning for Denver, Colorado. I see a few popular tourist\n",
      "TARGET:\n",
      "I would like to vacation there Sounds fun\n",
      "CANDIDATES:\n",
      "Sure, I'll take it! Thanks for the suggestions [-0.11] [generated]\n",
      "What are some cheap Florida places to go? [-11.762] [retrieved]\n",
      "\n"
     ]
    }
   ],
   "source": [
    "max_preds = min_max_preds['max']\n",
    "for pred, _ in max_preds:\n",
    "    print_prediction(pred)\n",
    "    print('')"
   ]
  },
  {
   "cell_type": "markdown",
   "metadata": {},
   "source": [
    "### Histogram of distances between the gen/ret candidates' scores"
   ]
  },
  {
   "cell_type": "code",
   "execution_count": 115,
   "metadata": {},
   "outputs": [
    {
     "data": {
      "image/png": "[encoded data removed]",
      "text/plain": [
       "<Figure size 432x288 with 1 Axes>"
      ]
     },
     "metadata": {
      "needs_background": "light"
     },
     "output_type": "display_data"
    }
   ],
   "source": [
    "plt.hist(non_zero_distances, bins=10)\n",
    "plt.show()"
   ]
  },
  {
   "cell_type": "markdown",
   "metadata": {},
   "source": [
    "### NLG-Eval metrics between ground truth targets and generated/retrieved responses"
   ]
  },
  {
   "cell_type": "code",
   "execution_count": 116,
   "metadata": {},
   "outputs": [],
   "source": [
    "targets, gen_candidates, ret_candidates = [], [], []\n",
    "for prediction in log:\n",
    "    candidates = prediction['candidates']\n",
    "    gen_candidates_i = [candidate['utterance'] for candidate in candidates\n",
    "                        if candidate['method'] == 'generated']\n",
    "    ret_candidates_i = [candidate['utterance'] for candidate in candidates\n",
    "                        if candidate['method'] == 'retrieved']\n",
    "    if not len(ret_candidates_i) or not len(gen_candidates_i):\n",
    "        continue\n",
    "    targets.append(prediction['target'])\n",
    "    gen_candidates.append(gen_candidates_i[0])\n",
    "    ret_candidates.append(ret_candidates_i[0])"
   ]
  },
  {
   "cell_type": "code",
   "execution_count": 117,
   "metadata": {},
   "outputs": [
    {
     "data": {
      "text/plain": [
       "{'Bleu_1': 0.13775401958052755,\n",
       " 'Bleu_2': 0.08709841483809297,\n",
       " 'Bleu_3': 0.06053476737727977,\n",
       " 'Bleu_4': 0.043493544949373394,\n",
       " 'METEOR': 0.09700586169517364,\n",
       " 'ROUGE_L': 0.1249785288608312,\n",
       " 'CIDEr': 0.339336160363538}"
      ]
     },
     "execution_count": 117,
     "metadata": {},
     "output_type": "execute_result"
    }
   ],
   "source": [
    "NLGEVAL.compute_metrics([targets], gen_candidates)"
   ]
  },
  {
   "cell_type": "code",
   "execution_count": 118,
   "metadata": {
    "scrolled": true
   },
   "outputs": [
    {
     "data": {
      "text/plain": [
       "{'Bleu_1': 0.13134569376126987,\n",
       " 'Bleu_2': 0.08049205082782263,\n",
       " 'Bleu_3': 0.05600173107632877,\n",
       " 'Bleu_4': 0.041217311572226585,\n",
       " 'METEOR': 0.09318854214218383,\n",
       " 'ROUGE_L': 0.10631682326911585,\n",
       " 'CIDEr': 0.2712611723902696}"
      ]
     },
     "execution_count": 118,
     "metadata": {},
     "output_type": "execute_result"
    }
   ],
   "source": [
    "NLGEVAL.compute_metrics([targets], ret_candidates)"
   ]
  },
  {
   "cell_type": "markdown",
   "metadata": {},
   "source": [
    "# MetaLWOz cross task"
   ]
  },
  {
   "cell_type": "code",
   "execution_count": 119,
   "metadata": {},
   "outputs": [],
   "source": [
    "log = logs[1]\n",
    "distances = get_candidate_distances(log)\n",
    "non_zero_dist_preds = [(pred, dist) for pred, dist in zip(log, distances) if 1e-7 < abs(dist)]\n",
    "min_max_preds = get_min_max_candidates(non_zero_dist_preds)\n",
    "non_zero_distances = [dist for _, dist in non_zero_dist_preds]"
   ]
  },
  {
   "cell_type": "code",
   "execution_count": 120,
   "metadata": {},
   "outputs": [
    {
     "name": "stdout",
     "output_type": "stream",
     "text": [
      "0.0009999999999998899\n",
      "16.143\n"
     ]
    }
   ],
   "source": [
    "print(min(non_zero_distances))\n",
    "print(max(non_zero_distances))"
   ]
  },
  {
   "cell_type": "markdown",
   "metadata": {},
   "source": [
    "### Number of predictions with identical gen and ret candidates"
   ]
  },
  {
   "cell_type": "code",
   "execution_count": 121,
   "metadata": {},
   "outputs": [
    {
     "name": "stdout",
     "output_type": "stream",
     "text": [
      "Identical gen/ret predictions: 16 (0.7%)\n"
     ]
    }
   ],
   "source": [
    "zero_distances_num = len(distances) - len(non_zero_distances)\n",
    "print('Identical gen/ret predictions: {} ({:.1f}%)'.format(zero_distances_num,\n",
    "                                                           100.0 * zero_distances_num / len(distances)))"
   ]
  },
  {
   "cell_type": "markdown",
   "metadata": {},
   "source": [
    "### Predictions with 10 closest retrieved/generated pairs"
   ]
  },
  {
   "cell_type": "code",
   "execution_count": 122,
   "metadata": {
    "scrolled": false
   },
   "outputs": [
    {
     "name": "stdout",
     "output_type": "stream",
     "text": [
      "ID:  a3cf47bc\n",
      "INPUT:\n",
      "Wizard: Hello how may I help you?\n",
      "User: i'm trying to book rooms\n",
      "Wizard: for where?\n",
      "User: I need a few hotel rooms in Tucson\n",
      "Wizard: how many total rooms?\n",
      "TARGET:\n",
      "I need ten rooms\n",
      "CANDIDATES:\n",
      "Five rooms [2.794] [generated]\n",
      "I need 4 rooms on the same floor [2.793] [retrieved]\n",
      "\n",
      "ID:  2cebd403\n",
      "INPUT:\n",
      "Wizard: Hello how may I help you?\n",
      "User: Want some info about Cyprus.\n",
      "Wizard: What would you like to know about Cyprus?\n",
      "TARGET:\n",
      "What's best time to visit there?\n",
      "CANDIDATES:\n",
      "What is the best time to visit? [1.088] [generated]\n",
      "What is the best time to visit Cyprus? [1.087] [retrieved]\n",
      "\n",
      "ID:  a40b267c\n",
      "INPUT:\n",
      "Wizard: Hello how may I help you?\n",
      "User: quick question\n",
      "Wizard: Sure, what would you like to know?\n",
      "User: where do i go in rome to learn about history?\n",
      "Wizard: You might want to visit a place called Lou's. It's a museum full of historical artifacts.\n",
      "User: any other museums?\n",
      "Wizard: Sure, there is a wonderful art museum Plaza de Art\n",
      "User: thanks!\n",
      "Wizard: anything else I can help you with?\n",
      "TARGET:\n",
      "thats all\n",
      "CANDIDATES:\n",
      "nothing thanks [1.119] [retrieved]\n",
      "no thanks [1.113] [generated]\n",
      "\n",
      "ID:  d8134135\n",
      "INPUT:\n",
      "Wizard: Hello how may I help you?\n",
      "User: I have concern\n",
      "Wizard: what is it?\n",
      "User: I wanna book a flight\n",
      "Wizard: to where?\n",
      "TARGET:\n",
      "Somewhere in Europe\n",
      "CANDIDATES:\n",
      "Europe. [1.851] [retrieved]\n",
      "To Europe. [1.844] [generated]\n",
      "\n",
      "ID:  66458e89\n",
      "INPUT:\n",
      "Wizard: Hello how may I help you?\n",
      "User: I need some help.\n",
      "Wizard: yes, how can i help you?\n",
      "User: I'm going to Montreal, and good festivals?\n",
      "Wizard: yes, there will have music festivals and dancing party. and wine testing party.\n",
      "User: In the summer?\n",
      "Wizard: yes, it will in the august.\n",
      "User: September?\n",
      "Wizard: there only have wine testing party for september.\n",
      "TARGET:\n",
      "Bummer\n",
      "CANDIDATES:\n",
      "That sounds interesting. Can you book me for that day? [-1.274] [retrieved]\n",
      "ok thanks [-1.282] [generated]\n",
      "\n",
      "ID:  17d363c4\n",
      "INPUT:\n",
      "Wizard: Hello how may I help you?\n",
      "User: hi can you please give me some vacation ideas?\n",
      "Wizard: sure, what type of vacation do you like?\n",
      "User: for a family trip? it's for the kids mostly\n",
      "Wizard: okay sure, wait a moment\n",
      "User: thanks\n",
      "Wizard: theres available near you, would you like to go there?\n",
      "User: What do you mean. I don't understand.\n",
      "Wizard: about 3 miles away from you\n",
      "TARGET:\n",
      "What is?\n",
      "CANDIDATES:\n",
      "What is the best place to bring kids? [-1.22] [generated]\n",
      "Great, thanks for all the help! [-1.228] [retrieved]\n",
      "\n",
      "ID:  a9d6bba6\n",
      "INPUT:\n",
      "Wizard: Hello how may I help you?\n",
      "User: Are there any good festivals in Montreal this summer\n",
      "Wizard: which kind of festival? music?\n",
      "User: any kind\n",
      "Wizard: there is a rock festival in July 15th\n",
      "User: do you know whos playing\n",
      "Wizard: eagles\n",
      "User: great i love them\n",
      "Wizard: anything else?\n",
      "TARGET:\n",
      "how much are tickets\n",
      "CANDIDATES:\n",
      "no [2.92] [generated]\n",
      "nope that's all thanks [2.911] [retrieved]\n",
      "\n",
      "ID:  2391a847\n",
      "INPUT:\n",
      "Wizard: Hello how may I help you?\n",
      "User: I need some ideas\n",
      "Wizard: Sure About what >\n",
      "User: Where's a good place to bring kids for vacation\n",
      "Wizard: I highly suggest Disney Land\n",
      "User: That's a good idea. When is a good time for us to go? When it's not so hot?\n",
      "Wizard: But the place is vey expensive\n",
      "TARGET:\n",
      "Yeah, I'm okay with that\n",
      "CANDIDATES:\n",
      "Oh I know we'd never go if we didn't get a Florida discount on tickets [0.384] [retrieved]\n",
      "I don't think that's a good idea. What are the best places to bring kids? [0.375] [generated]\n",
      "\n",
      "ID:  7f696982\n",
      "INPUT:\n",
      "Wizard: Hello how may I help you?\n",
      "User: I need some vacation ideas.\n",
      "Wizard: okay where do you want to go?\n",
      "TARGET:\n",
      "Someplace warm.\n",
      "CANDIDATES:\n",
      "I need somewhere warm. [1.85] [generated]\n",
      "I haven't decided yet. Some place warm. [1.839] [retrieved]\n",
      "\n",
      "ID:  8b72fe9b\n",
      "INPUT:\n",
      "Wizard: Hello how may I help you?\n",
      "User: I need to book a flight and i need it by tonight\n",
      "Wizard: Ok, book a flight, it will be expensive at this late date\n",
      "User: Book me a flight to hawaii for 2 people leaving tonight\n",
      "Wizard: Ok, let me see what I have, I have two tickets for 100,000 dollars\n",
      "TARGET:\n",
      "Book it. Money is no limit\n",
      "CANDIDATES:\n",
      "Sounds good I'll take them [0.819] [retrieved]\n",
      "Money is not a problem for us [0.805] [generated]\n",
      "\n"
     ]
    }
   ],
   "source": [
    "min_preds = min_max_preds['min']\n",
    "for pred, _ in min_preds:\n",
    "    print_prediction(pred)\n",
    "    print('')"
   ]
  },
  {
   "cell_type": "markdown",
   "metadata": {},
   "source": [
    "### Prediction with the most distant retrieved and generated scores"
   ]
  },
  {
   "cell_type": "code",
   "execution_count": 123,
   "metadata": {
    "scrolled": false
   },
   "outputs": [
    {
     "name": "stdout",
     "output_type": "stream",
     "text": [
      "ID:  c9595979\n",
      "INPUT:\n",
      "Wizard: Hello how may I help you?\n",
      "User: I need some tourism help.\n",
      "Wizard: where would you like to travel to?\n",
      "User: Montreal. I''m going there this summer. Where are some good spots to go?\n",
      "Wizard: it depends on how much your are willing ti spent.\n",
      "User: Well, I'm looking for some festivals in the area around that time. Can you just give me some suggestions?\n",
      "Wizard: what is your budget?\n",
      "TARGET:\n",
      "Budget doesn't matter. I just want to know where I can go.\n",
      "CANDIDATES:\n",
      "My budget is $15.00 per ticket. [2.109] [generated]\n",
      "Great! Thanks so muvh [-14.034] [retrieved]\n",
      "\n",
      "ID:  7596b1d7\n",
      "INPUT:\n",
      "Wizard: Hello how may I help you?\n",
      "User: Hello. I need to book a flight for two\n",
      "Wizard: ok where are you going?\n",
      "User: I will be heading to Hawaii and I need to leave tonight\n",
      "Wizard: will you be bringing extra luggage?\n",
      "User: No, I will need first class seats. Money is no object\n",
      "Wizard: i have 2 tickets for $50,000\n",
      "User: Okay, that will be fine. Please purchase with my credit card on file\n",
      "Wizard: just to verify, what is the last 2 digits of your credit card?\n",
      "TARGET:\n",
      "The last two digits of my credit card are 00\n",
      "CANDIDATES:\n",
      "The last 2 digits are: 5555 [5.081] [generated]\n",
      "Sure. Just sent it to my email. Thanks! [-9.761] [retrieved]\n",
      "\n",
      "ID:  2328e2e3\n",
      "INPUT:\n",
      "Wizard: Hello how may I help you?\n",
      "User: I need to cancel a reservation for a hotel in New York City\n",
      "Wizard: Im sorry i can not do that for you, you will need to call the hotel directly\n",
      "User: Okay. Can you give me the number for the Central Park Plaza Hotel in NYC?\n",
      "Wizard: Just a second\n",
      "User: Okay.\n",
      "Wizard: The number is 265-569-7894\n",
      "User: Thanks. Can you book hotels in Europe?\n",
      "Wizard: Yes i can, what country in Europe?\n",
      "TARGET:\n",
      "None in particular, I was just curious if you were an international booking agent. Thanks for the info.\n",
      "CANDIDATES:\n",
      "Spain. [4.42] [generated]\n",
      "Got it thank you [-10.174] [retrieved]\n",
      "\n",
      "ID:  cb0a340f\n",
      "INPUT:\n",
      "Wizard: Hello how may I help you?\n",
      "User: hi i need some help with booking a hotel room.\n",
      "Wizard: I am designed to help with hotel bookings.\n",
      "TARGET:\n",
      "great. i need a room in a hotel in downtown toronto. are there any options below $150?\n",
      "CANDIDATES:\n",
      "alright i need to book a room with two beds on the second floor of a hotel in downtown Toronto [2.761] []\n",
      "Thanks [-11.62] [retrieved]\n",
      "\n",
      "ID:  b7c1d559\n",
      "INPUT:\n",
      "Wizard: Hello how may I help you?\n",
      "User: I need an idea.\n",
      "Wizard: Sure, what's up?\n",
      "User: Can use advise me on a vacation spot?\n",
      "Wizard: Yes. Disney World and Disney Land are always fun for children and adults, but it's really expensive\n",
      "User: Anything closer?\n",
      "Wizard: Have you ever been to Niagara Falls?\n",
      "User: Yes,but that's too far away.\n",
      "Wizard: Where is your location?\n",
      "TARGET:\n",
      "Nebraska\n",
      "CANDIDATES:\n",
      "I'm in New York. [3.711] [generated]\n",
      "ok, thanks [-9.605] [retrieved]\n",
      "\n",
      "ID:  8a759663\n",
      "INPUT:\n",
      "Wizard: Hello how may I help you?\n",
      "User: I need to get some hotel rooms.\n",
      "Wizard: Okay, how many rooms do you need?\n",
      "User: I need three I guess. They need to all be on the same floor.\n",
      "Wizard: I'm sorry we don't have 3 rooms vacant on the same floor. We do have 3 vacancies but they would have to be on\n",
      "User: Well, that's not optimal, but if that's the only option I guess I'll take it.\n",
      "Wizard: Okay, what is the name that will be checking in?\n",
      "User: Max Bialystok.\n",
      "Wizard: Okay Max, and what time will you be checking in?\n",
      "TARGET:\n",
      "11 AM.\n",
      "CANDIDATES:\n",
      "5:00 PM. [6.773] [generated]\n",
      "I would like the rooms reserved for May 4th to May 6h [-6.404] [retrieved]\n",
      "\n",
      "ID:  189acc1e\n",
      "INPUT:\n",
      "Wizard: Hello how may I help you?\n",
      "User: I need to book a room for me\n",
      "Wizard: OK. Where do you want to stay?\n",
      "User: In downtown Toronto\n",
      "Wizard: And for what dates would you like the room?\n",
      "User: I need a 2 bedroom on the second floor I'd like to stay for this weekend\n",
      "Wizard: And how many people will be in your party?\n",
      "TARGET:\n",
      "2\n",
      "CANDIDATES:\n",
      "Just myself and a few friends please [3.82] [generated]\n",
      "Price isn't a concern. I would like a room on the second floor with 2 beds if that helps. [-9.183] [retrieved]\n",
      "\n",
      "ID:  174602b7\n",
      "INPUT:\n",
      "Wizard: Hello how may I help you?\n",
      "User: I need some ideas.\n",
      "Wizard: Okay, what about?\n",
      "User: I'm going to be taking my vacation soon\n",
      "Wizard: Where will you like to go?\n",
      "TARGET:\n",
      "I need someone good for the kids. somewhere*\n",
      "CANDIDATES:\n",
      "Well, I'm going to be in Miami [2.13] [generated]\n",
      "yes please. [-10.672] [retrieved]\n",
      "\n",
      "ID:  c8322f9b\n",
      "INPUT:\n",
      "Wizard: Hello how may I help you?\n",
      "User: hello, I need tourism advise\n",
      "Wizard: I can set you up.\n",
      "User: what is the best time to visit cyptus? cyprus\n",
      "Wizard: Early summer is the best if you ask me.\n",
      "User: ok thank you.\n",
      "Wizard: Right now is a really good time. Do you have time off soon?\n",
      "User: yes, i am planning to go there at summer.\n",
      "Wizard: How many vacation days have you got piled up?\n",
      "TARGET:\n",
      "2 weeks. thank you.\n",
      "CANDIDATES:\n",
      "i only have vacation days, i need to look forward to the trip. [3.723] [generated]\n",
      "thank you for your help [-8.222] [retrieved]\n",
      "\n",
      "ID:  46902c61\n",
      "INPUT:\n",
      "Wizard: Hello how may I help you?\n",
      "User: I have 5 days of vacation next month I would like to go somewhere\n",
      "Wizard: Do you have any favorite places you have in mind?\n",
      "User: Anywhere in colorado, wyoming, montana\n",
      "Wizard: Let me look that up for you! If you're planning for Denver, Colorado. I see a few popular tourist\n",
      "TARGET:\n",
      "I would like to vacation there Sounds fun\n",
      "CANDIDATES:\n",
      "Sure, I'll take it! Thanks for the suggestions [-0.11] [generated]\n",
      "What are some cheap Florida places to go? [-11.762] [retrieved]\n",
      "\n"
     ]
    }
   ],
   "source": [
    "max_preds = min_max_preds['max']\n",
    "for pred, _ in max_preds:\n",
    "    print_prediction(pred)\n",
    "    print('')"
   ]
  },
  {
   "cell_type": "markdown",
   "metadata": {},
   "source": [
    "### Histogram of distances between the gen/ret candidates' scores"
   ]
  },
  {
   "cell_type": "code",
   "execution_count": 124,
   "metadata": {},
   "outputs": [
    {
     "data": {
      "image/png": "[encoded data removed]",
      "text/plain": [
       "<Figure size 432x288 with 1 Axes>"
      ]
     },
     "metadata": {
      "needs_background": "light"
     },
     "output_type": "display_data"
    }
   ],
   "source": [
    "plt.hist(non_zero_distances, bins=10)\n",
    "plt.show()"
   ]
  },
  {
   "cell_type": "markdown",
   "metadata": {},
   "source": [
    "### NLG-Eval metrics between ground truth targets and generated/retrieved responses"
   ]
  },
  {
   "cell_type": "code",
   "execution_count": 125,
   "metadata": {},
   "outputs": [],
   "source": [
    "targets, gen_candidates, ret_candidates = [], [], []\n",
    "for prediction in log:\n",
    "    candidates = prediction['candidates']\n",
    "    gen_candidates_i = [candidate['utterance'] for candidate in candidates\n",
    "                        if candidate['method'] == 'generated']\n",
    "    ret_candidates_i = [candidate['utterance'] for candidate in candidates\n",
    "                        if candidate['method'] == 'retrieved']\n",
    "    if not len(ret_candidates_i) or not len(gen_candidates_i):\n",
    "        continue\n",
    "    targets.append(prediction['target'])\n",
    "    gen_candidates.append(gen_candidates_i[0])\n",
    "    ret_candidates.append(ret_candidates_i[0])"
   ]
  },
  {
   "cell_type": "code",
   "execution_count": 126,
   "metadata": {},
   "outputs": [
    {
     "data": {
      "text/plain": [
       "{'Bleu_1': 0.13775401958052755,\n",
       " 'Bleu_2': 0.08709841483809297,\n",
       " 'Bleu_3': 0.06053476737727977,\n",
       " 'Bleu_4': 0.043493544949373394,\n",
       " 'METEOR': 0.09700586169517364,\n",
       " 'ROUGE_L': 0.1249785288608312,\n",
       " 'CIDEr': 0.339336160363538}"
      ]
     },
     "execution_count": 126,
     "metadata": {},
     "output_type": "execute_result"
    }
   ],
   "source": [
    "NLGEVAL.compute_metrics([targets], gen_candidates)"
   ]
  },
  {
   "cell_type": "code",
   "execution_count": 127,
   "metadata": {
    "scrolled": true
   },
   "outputs": [
    {
     "data": {
      "text/plain": [
       "{'Bleu_1': 0.13134569376126987,\n",
       " 'Bleu_2': 0.08049205082782263,\n",
       " 'Bleu_3': 0.05600173107632877,\n",
       " 'Bleu_4': 0.041217311572226585,\n",
       " 'METEOR': 0.09318854214218383,\n",
       " 'ROUGE_L': 0.10631682326911585,\n",
       " 'CIDEr': 0.2712611723902696}"
      ]
     },
     "execution_count": 127,
     "metadata": {},
     "output_type": "execute_result"
    }
   ],
   "source": [
    "NLGEVAL.compute_metrics([targets], ret_candidates)"
   ]
  },
  {
   "cell_type": "markdown",
   "metadata": {},
   "source": [
    "# MultiWOZ"
   ]
  },
  {
   "cell_type": "code",
   "execution_count": 128,
   "metadata": {},
   "outputs": [],
   "source": [
    "log = logs[2]\n",
    "distances = get_candidate_distances(log)\n",
    "non_zero_dist_preds = [(pred, dist) for pred, dist in zip(log, distances) if dist is not None and 1e-7 < abs(dist)]\n",
    "min_max_preds = get_min_max_candidates(non_zero_dist_preds)\n",
    "non_zero_distances = [dist for _, dist in non_zero_dist_preds]"
   ]
  },
  {
   "cell_type": "code",
   "execution_count": 129,
   "metadata": {},
   "outputs": [
    {
     "name": "stdout",
     "output_type": "stream",
     "text": [
      "0.0009999999999998899\n",
      "16.272\n"
     ]
    }
   ],
   "source": [
    "print(min(non_zero_distances))\n",
    "print(max(non_zero_distances))"
   ]
  },
  {
   "cell_type": "markdown",
   "metadata": {},
   "source": [
    "### Number of predictions with identical gen and ret candidates"
   ]
  },
  {
   "cell_type": "code",
   "execution_count": 130,
   "metadata": {},
   "outputs": [
    {
     "name": "stdout",
     "output_type": "stream",
     "text": [
      "Identical gen/ret predictions: 1262 (30.2%)\n"
     ]
    }
   ],
   "source": [
    "zero_distances_num = len(distances) - len(non_zero_distances)\n",
    "print('Identical gen/ret predictions: {} ({:.1f}%)'.format(zero_distances_num,\n",
    "                                                           100.0 * zero_distances_num / len(distances)))"
   ]
  },
  {
   "cell_type": "markdown",
   "metadata": {},
   "source": [
    "### Predictions with 10 closest retrieved/generated pairs"
   ]
  },
  {
   "cell_type": "code",
   "execution_count": 131,
   "metadata": {
    "scrolled": false
   },
   "outputs": [
    {
     "name": "stdout",
     "output_type": "stream",
     "text": [
      "ID:  SNG1282\n",
      "INPUT:\n",
      "Wizard: Hello, how may I help you?\n",
      "User: i want to book a taxi. The taxi should go to saigon city and should arrive by 24:45.\n",
      "Wizard: Where will you be departing from?\n",
      "User: I will be departing from parkside pools.\n",
      "Wizard: I've booked a grey BMW that will leave Parkside Pools, and arrive in Saigon City by 24:45. Their contact\n",
      "TARGET:\n",
      "No thank you. that's all.\n",
      "CANDIDATES:\n",
      "That is all. Thank you. [2.784] [retrieved]\n",
      "That is all. Thank you for your help. [2.783] [generated]\n",
      "\n",
      "ID:  SNG0518\n",
      "INPUT:\n",
      "Wizard: Hello, how may I help you?\n",
      "User: I am looking for a place to dine. The restaurant should be expensive and should serve Chinese food.\n",
      "Wizard: Would you like the restaurant in a specific place?\n",
      "TARGET:\n",
      "Not in any specific area please. I need to book a table for 3 at 14:00 on Saturday.\n",
      "CANDIDATES:\n",
      "Do you have the address? [-1.633] [generated]\n",
      "I am looking for a restaurant in the centre of town, please. [-1.635] [retrieved]\n",
      "\n",
      "ID:  SNG0900\n",
      "INPUT:\n",
      "Wizard: Hello, how may I help you?\n",
      "User: Hi I am looking for a 4 star guesthouse. Can you help me?\n",
      "Wizard: We found 5 guest houses for you, but I need to know your preferred area.\n",
      "User: I don't really care about the area, but I would like it to have free parking.\n",
      "Wizard: I could recommend the allenbell. It is priced cheap and has 4 stars.\n",
      "User: Sounds good, I need rooms for 7 people for 4 nights starting Tuesday.\n",
      "Wizard: I have booked the allenbell for you starting on Tuesday for 4 nights for 7 people. Your reference number is\n",
      "TARGET:\n",
      "No thank you, that is everything.\n",
      "CANDIDATES:\n",
      "No, that's all I need. Thank you for your help! [3.179] [retrieved]\n",
      "No, that's all. Thank you so much. [3.176] [generated]\n",
      "\n",
      "ID:  SNG1043\n",
      "INPUT:\n",
      "Wizard: Hello, how may I help you?\n",
      "User: I need a hotel in the south of the city, it is ok if the hotel doesn't has free parking.\n",
      "Wizard: I have one hotel that meets your needs. It's the Lensfield Hotel that offers free wifi and parking. They have\n",
      "User: What is the price of the Lensfield?\n",
      "Wizard: The Lensfield Hotel is expensive.\n",
      "User: Is there a moderate place in the in the south that has free parking?\n",
      "Wizard: No, no hotels meet your criteria.\n",
      "User: Are there any moderately priced hotels that don't have free parking, but have wifi?\n",
      "Wizard: We have 2 locations that are in the south, moderately priced, and have free wifi. They are both guesthouses,\n",
      "TARGET:\n",
      "Yes, can you give me the address of your favorite one?\n",
      "CANDIDATES:\n",
      "Thanks for the information! [-0.01] [retrieved]\n",
      "Can you book me for 2 nights for 2 nights starting from Wednesday. [-0.013] [generated]\n",
      "\n",
      "ID:  PMUL1718\n",
      "INPUT:\n",
      "Wizard: Hello, how may I help you?\n",
      "User: I want a place to stay. Is there an expensive hotel? It doesn't need to include internet.\n",
      "Wizard: I have 5 expensive hotels, what part of town would you like to stay in?\n",
      "User: If you have anything in the south that would be perfect.\n",
      "Wizard: I have the Lensfield Hotel in the south. It is rated 3 stars and offers both free parking and internet. May I\n",
      "User: not now but will come back laiter\n",
      "Wizard: No problem. Can I help you with anything else at this time?\n",
      "TARGET:\n",
      "That is all I need, thank you.\n",
      "CANDIDATES:\n",
      "No, that's all. Thanks, good bye. [-2.935] [retrieved]\n",
      "No, that is all. Thank you. [-2.938] [generated]\n",
      "\n",
      "ID:  PMUL3017\n",
      "INPUT:\n",
      "Wizard: Hello, how may I help you?\n",
      "User: I'm going to be in Cambridge for 4 days and need a place to stay in the south with free wifi. I don't need\n",
      "Wizard: No I am so sorry I am not finding anything like that something else perhaps?\n",
      "User: How about a guesthouse and it doesn't need to have free parking.\n",
      "Wizard: I'm still not able to get any results. Can we try a new search?\n",
      "User: Yes let's try the east side of town.\n",
      "Wizard: how about a and b guest house? it's located in the east.\n",
      "User: Sure, could you book it for 7 people for 5 nights starting tuesday? Thanks so much.\n",
      "Wizard: Your booking was successful. Your reference number is 79TPBIDU. Is there anything else I can do for you?\n",
      "TARGET:\n",
      "No, I think that's it! Thanks for your helpful searches!\n",
      "CANDIDATES:\n",
      "That is all for now, thank you very much. [1.425] [generated]\n",
      "Nope. I think that is all I need. Thanks for your help! [1.421] [retrieved]\n",
      "\n",
      "ID:  PMUL1932\n",
      "INPUT:\n",
      "Wizard: Hello, how may I help you?\n",
      "User: I am hoping you might be able to help me find a place to stay last minute. I am on a bit of a budget so I\n",
      "Wizard: I have three hotels available. The Ashley Hotel, Cityroomz, and Lovell Lodge. Do you need parking?\n",
      "User: I need one in the centre and has free wifi.\n",
      "Wizard: Then Cityroomz is just for you! It is located at sleeperz hotel, station road. Do you need more information\n",
      "TARGET:\n",
      "That is all that I need. Thank you so much.\n",
      "CANDIDATES:\n",
      "I would like to book it for 4 people and 1 night starting on Saturday. [-0.624] [generated]\n",
      "Okay, I 'd like to book a room at the Gonville Hotel for 4 nights. There will be 6 people and we will be arriving on Saturday. [-0.628] [retrieved]\n",
      "\n",
      "ID:  SNG0113\n",
      "INPUT:\n",
      "Wizard: Hello, how may I help you?\n",
      "User: I am looking for information about the Parkside Police Station.\n",
      "Wizard: Sure, Parkside Police Station Telephone 01223358966, Address Parkside, Cambridge, Postcode CB11JG. Is there\n",
      "TARGET:\n",
      "No, that's everything I needed, thanks.\n",
      "CANDIDATES:\n",
      "No, that is all, thank you. [2.783] [generated]\n",
      "Yes, I 'll also need their phone number. [2.779] [retrieved]\n",
      "\n",
      "ID:  SNG0722\n",
      "INPUT:\n",
      "Wizard: Hello, how may I help you?\n",
      "User: I'm looking for a place to dine that serves British food. It should be in the moderate price range.\n",
      "Wizard: How about The Oak Bistro? It's located in the Centre. Would you like more information or to book a table?\n",
      "TARGET:\n",
      "The Oak Bistro sounds fabulous. Can I get a table there on Sunday at 18:30? There will be 6 of us.\n",
      "CANDIDATES:\n",
      "Yes, I need to book a table for 5 people at 15:30 on saturday. [1.259] [generated]\n",
      "Yes, I 'd like a table for a party of 8 at 11:15 on Thursday. [1.255] [retrieved]\n",
      "\n",
      "ID:  SNG0130\n",
      "INPUT:\n",
      "Wizard: Hello, how may I help you?\n",
      "User: I need to speak to the police.\n",
      "Wizard: The number to the police station is 01223358966.\n",
      "User: Thanks. What is the postcode and address?\n",
      "Wizard: The postcode is CB11JG, and the address is Parkside, Cambridge. Anything else you need?\n",
      "TARGET:\n",
      "That is all I need today. Thank you.\n",
      "CANDIDATES:\n",
      "That is all I need. [2.824] [generated]\n",
      "No thanks. I have everything I need. [2.819] [retrieved]\n",
      "\n"
     ]
    }
   ],
   "source": [
    "min_preds = min_max_preds['min']\n",
    "for pred, _ in min_preds:\n",
    "    print_prediction(pred)\n",
    "    print('')"
   ]
  },
  {
   "cell_type": "markdown",
   "metadata": {},
   "source": [
    "### Prediction with the most distant retrieved and generated scores"
   ]
  },
  {
   "cell_type": "code",
   "execution_count": 132,
   "metadata": {
    "scrolled": false
   },
   "outputs": [
    {
     "name": "stdout",
     "output_type": "stream",
     "text": [
      "ID:  SNG1313\n",
      "INPUT:\n",
      "Wizard: Hello, how may I help you?\n",
      "User: i am looking for a train. The train should leave on Monday and should arrive by 12:45.\n",
      "Wizard: Where would you like to go?\n",
      "TARGET:\n",
      "I would like to depart from Cambridge, and travel to Bishops Stortford.\n",
      "CANDIDATES:\n",
      "i would like to go to Cambridge. [5.253] [generated]\n",
      "I would like to leave after 09:00 on Sunday. [-11.019] [retrieved]\n",
      "\n",
      "ID:  SNG0223\n",
      "INPUT:\n",
      "Wizard: Hello, how may I help you?\n",
      "User: I've just been robbed and I need some help.\n",
      "Wizard: I'm sorry to hear that. There is a police station on Parkside, Cambridge CB11JG and the phone number is\n",
      "TARGET:\n",
      "No that will be all, thank you.\n",
      "CANDIDATES:\n",
      "What is their postcode? [1.339] [retrieved]\n",
      "I've just been robbed and I need help to find out where to go. 999 999 999 [-13.922] [generated]\n",
      "\n",
      "ID:  SNG0132\n",
      "INPUT:\n",
      "Wizard: Hello, how may I help you?\n",
      "User: I'm looking for a restaurant in the west side that's in the moderate price range.\n",
      "Wizard: I have three listings, one for british, indian, italian. Are any of those types of food you are looking for?\n",
      "User: Are any of them available for 8 people at 19:00 on Wednesday?\n",
      "Wizard: There are two restaurants available the Indian restaurant Meghna and the Italian restaurant Prezzo 8 people\n",
      "TARGET:\n",
      "The Italian restaurant Prezzo sounds good.\n",
      "CANDIDATES:\n",
      "Prezzo 8 will be great, how about Meghna? [7.966] [generated]\n",
      "Let's try the Brasserie. [-6.55] [retrieved]\n",
      "\n",
      "ID:  SNG0481\n",
      "INPUT:\n",
      "Wizard: Hello, how may I help you?\n",
      "User: Hi, I'm looking for an Indian restaurant. I 'd prefer something on the west side.\n",
      "Wizard: I have found 6 restaurants meeting your criteria. Rice boat is a good choice. Would you like me to book you a\n",
      "User: I'm looking for something in the fine dining price range, so the place should be expensive. Are there any\n",
      "Wizard: Absolutely, there are a few choices. How about Tandoori Palace on Histon Road?\n",
      "TARGET:\n",
      "That sounds good. may I have their postcode, address, and phone number?\n",
      "CANDIDATES:\n",
      "Tandoori Palace sounds good, how about another restaurant that sounds like it would work? [4.469] [generated]\n",
      "Yes, the Dojo Noodle Bar sounds perfect. [-9.059] [retrieved]\n",
      "\n",
      "ID:  SNG0392\n",
      "INPUT:\n",
      "Wizard: Hello, how may I help you?\n",
      "User: Hello there. I am trying to locate a train for Monday.\n",
      "Wizard: Sure. Where will you be going?\n",
      "User: I am going to Cambridge.\n",
      "Wizard: All right, and where would you like to depart from?\n",
      "User: I 'll will be leaving from London Liverpool Street.\n",
      "Wizard: I've got 10 trains that are on that route. Do you have a preferred departure or arrival time?\n",
      "User: I need on that will leave London after 21:00.\n",
      "Wizard: I have two trains that will leave after 21:00. One leaves at 21:39 and one leaves at 23:39. Which would you\n",
      "TARGET:\n",
      "What time does the one that leaves at 21:39 arrive in Cambridge? Also, what is the train ID?\n",
      "CANDIDATES:\n",
      "I don't actually need to book at the moment. I just need to know the departure time and travel time for this train, if you don't [0.699] [retrieved]\n",
      "I 'd like to leave after 21:00 and leave the train that leaves after 21:00 [-12.611] [generated]\n",
      "\n",
      "ID:  SNG1262\n",
      "INPUT:\n",
      "Wizard: Hello, how may I help you?\n",
      "User: I am looking for information about city stop restaurant?\n",
      "Wizard: I have pulled up City Stop Restaurant. What information do you need?\n",
      "TARGET:\n",
      "I would like to book a table there for 4 peole on saturday at 19:45. and can i please get a reference number?\n",
      "CANDIDATES:\n",
      "Is it in the center? [1.743] [generated]\n",
      "No that's fine. Just book me a table for 2 people at 13:00 on Saturday. [-11.325] [retrieved]\n",
      "\n",
      "ID:  MUL2623\n",
      "INPUT:\n",
      "Wizard: Hello, how may I help you?\n",
      "User: I'm looking for a cheap guesthouse to stay in while I'm in town.\n",
      "Wizard: Do you have a preferred section of town?\n",
      "User: Not really, but I want free wifi and it should be 4 star.\n",
      "Wizard: I have several places. Are you sure you don't have an area you prefer?\n",
      "User: It doesn't matter which area it's in. Which would you recommend?\n",
      "Wizard: A lot of people like Autumn House in the east part of town, they're very economically priced. Would you like\n",
      "TARGET:\n",
      "Great can you book that for 7 people for 4 nights starting tuesday?\n",
      "CANDIDATES:\n",
      "Sure, that's fine. I 'd like to book it for 6 people, with a [2.686] [generated]\n",
      "Cambridge Belfry sounds great, can I get the reference number once you make that reservation? [-10.335] []\n",
      "\n",
      "ID:  SNG0181\n",
      "INPUT:\n",
      "Wizard: Hello, how may I help you?\n",
      "User: I want to find a seafood restaurant in the centre\n",
      "Wizard: I've found one seafood restaurant in the centre. Would you like to know more about it?\n",
      "User: No that's fine. Just book me a table for 2 people at 13:00 on Saturday.\n",
      "Wizard: The restaurant is Loch Fyne. They don't have any availability at that time. Would you like me to try a\n",
      "User: Let's try a different restaurant in the same area and price range please.\n",
      "Wizard: There are 5 expensive restaurants in the centre. One serves African, one serves Asian, and three serve\n",
      "TARGET:\n",
      "The African restaurant sounds great. Can you make a reservation for 2 at 13:00 this Saturday?\n",
      "CANDIDATES:\n",
      "The French one please, and the Asian one please. [3.239] [generated]\n",
      "Nope! Could you pick your favorite and book a table for me? 2 people at 12:30 on Tuesday, please. [-9.746] []\n",
      "\n",
      "ID:  SNG0193\n",
      "INPUT:\n",
      "Wizard: Hello, how may I help you?\n",
      "User: I am looking for city centre north b and b\n",
      "Wizard: I have found the guesthouse you were wanting. Would you like me to book this for you?\n",
      "TARGET:\n",
      "Yes, please book it for 1 person and for 5 nights starting Friday.\n",
      "CANDIDATES:\n",
      "Yes please book it for 5 people. [0.706] [generated]\n",
      "Do any of those include free parking? [-11.545] [retrieved]\n",
      "\n",
      "ID:  SNG0315\n",
      "INPUT:\n",
      "Wizard: Hello, how may I help you?\n",
      "User: Hi, I'm looking for some train information. Could you tell me what trains leave on Wednesday for Norwich?\n",
      "Wizard: There are 19 entries found. Where would you be coming from?\n",
      "User: I 'll be departing from Cambridge and I need to arrive by 12:00.\n",
      "Wizard: There is a train that arrives at 11:55. The trainID is TR9635. Would you like me to book that?\n",
      "TARGET:\n",
      "Sure, that sounds great.\n",
      "CANDIDATES:\n",
      "Yes, that would be great. [4.836] [generated]\n",
      "Great can I get TR5173 booked for 3 people please? [-7.307] [retrieved]\n",
      "\n"
     ]
    }
   ],
   "source": [
    "max_preds = min_max_preds['max']\n",
    "for pred, _ in max_preds:\n",
    "    print_prediction(pred)\n",
    "    print('')"
   ]
  },
  {
   "cell_type": "markdown",
   "metadata": {},
   "source": [
    "### Histogram of distances between the gen/ret candidates' scores"
   ]
  },
  {
   "cell_type": "code",
   "execution_count": 133,
   "metadata": {},
   "outputs": [
    {
     "data": {
      "image/png": "[encoded data removed]",
      "text/plain": [
       "<Figure size 432x288 with 1 Axes>"
      ]
     },
     "metadata": {
      "needs_background": "light"
     },
     "output_type": "display_data"
    }
   ],
   "source": [
    "plt.hist(non_zero_distances, bins=10)\n",
    "plt.show()"
   ]
  },
  {
   "cell_type": "markdown",
   "metadata": {},
   "source": [
    "### NLG-Eval metrics between ground truth targets and generated/retrieved responses"
   ]
  },
  {
   "cell_type": "code",
   "execution_count": 134,
   "metadata": {},
   "outputs": [],
   "source": [
    "targets, gen_candidates, ret_candidates = [], [], []\n",
    "for prediction in log:\n",
    "    candidates = prediction['candidates']\n",
    "    gen_candidates_i = [candidate['utterance'] for candidate in candidates\n",
    "                        if candidate['method'] == 'generated']\n",
    "    ret_candidates_i = [candidate['utterance'] for candidate in candidates\n",
    "                        if candidate['method'] == 'retrieved']\n",
    "    if not len(ret_candidates_i) or not len(gen_candidates_i):\n",
    "        continue\n",
    "    targets.append(prediction['target'])\n",
    "    gen_candidates.append(gen_candidates_i[0])\n",
    "    ret_candidates.append(ret_candidates_i[0])"
   ]
  },
  {
   "cell_type": "code",
   "execution_count": 135,
   "metadata": {},
   "outputs": [
    {
     "data": {
      "text/plain": [
       "{'Bleu_1': 0.14955109483649628,\n",
       " 'Bleu_2': 0.08277910458148781,\n",
       " 'Bleu_3': 0.05136282278236329,\n",
       " 'Bleu_4': 0.03196999204230297,\n",
       " 'METEOR': 0.10814399980936394,\n",
       " 'ROUGE_L': 0.15344245543239704,\n",
       " 'CIDEr': 0.2639145591876558}"
      ]
     },
     "execution_count": 135,
     "metadata": {},
     "output_type": "execute_result"
    }
   ],
   "source": [
    "NLGEVAL.compute_metrics([targets], gen_candidates)"
   ]
  },
  {
   "cell_type": "code",
   "execution_count": 136,
   "metadata": {
    "scrolled": true
   },
   "outputs": [
    {
     "data": {
      "text/plain": [
       "{'Bleu_1': 0.16155129289626197,\n",
       " 'Bleu_2': 0.0891345862870597,\n",
       " 'Bleu_3': 0.05578943546678236,\n",
       " 'Bleu_4': 0.03536344030926011,\n",
       " 'METEOR': 0.11407574794797835,\n",
       " 'ROUGE_L': 0.15155906418256765,\n",
       " 'CIDEr': 0.2824172075692828}"
      ]
     },
     "execution_count": 136,
     "metadata": {},
     "output_type": "execute_result"
    }
   ],
   "source": [
    "NLGEVAL.compute_metrics([targets], ret_candidates)"
   ]
  }
 ],
 "metadata": {
  "kernelspec": {
   "display_name": "Python 3",
   "language": "python",
   "name": "python3"
  },
  "language_info": {
   "codemirror_mode": {
    "name": "ipython",
    "version": 3
   },
   "file_extension": ".py",
   "mimetype": "text/x-python",
   "name": "python",
   "nbconvert_exporter": "python",
   "pygments_lexer": "ipython3",
   "version": "3.7.0"
  }
 },
 "nbformat": 4,
 "nbformat_minor": 4
}
