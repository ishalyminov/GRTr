{
 "cells": [
  {
   "cell_type": "code",
   "execution_count": 84,
   "metadata": {},
   "outputs": [],
   "source": [
    "import json\n",
    "import heapq\n",
    "\n",
    "import numpy as np\n",
    "import matplotlib.pyplot as plt\n",
    "import nlgeval"
   ]
  },
  {
   "cell_type": "code",
   "execution_count": 112,
   "metadata": {},
   "outputs": [],
   "source": [
    "NLGEVAL = nlgeval.NLGEval(no_skipthoughts=True, no_glove=True)"
   ]
  },
  {
   "cell_type": "code",
   "execution_count": 73,
   "metadata": {},
   "outputs": [],
   "source": [
    "def get_min_max_candidates(in_predictions, in_distances, top_n=10):\n",
    "    min_distance, max_distance = np.inf, -np.inf\n",
    "    min_distance_heap, max_distance_heap = ([(-np.inf, None) for _ in range(top_n)],\n",
    "                                            [(-np.inf, None) for _ in range(top_n)])\n",
    "\n",
    "    for pred, distance in zip(in_predictions, in_distances):\n",
    "        if distance is None:\n",
    "            continue\n",
    "        heapq.heapreplace(min_distance_heap, (-distance, json.dumps(pred)))\n",
    "        heapq.heapreplace(max_distance_heap, (distance, json.dumps(pred)))\n",
    "    return {'min': [(-distance, json.loads(pred)) for distance, pred in min_distance_heap][::-1],\n",
    "            'max': [(distance, json.loads(pred)) for distance, pred in max_distance_heap][::-1]}"
   ]
  },
  {
   "cell_type": "code",
   "execution_count": 66,
   "metadata": {},
   "outputs": [],
   "source": [
    "def get_candidate_distances(in_predictions):\n",
    "    distances = []\n",
    "    for pred in in_predictions:\n",
    "        scores = list(map(lambda x: x['score'], pred['candidates']))\n",
    "        if not len(scores):\n",
    "            distance = None\n",
    "        else:\n",
    "            min_score, max_score = min(scores), max(scores)\n",
    "            distance = abs(max_score - min_score)\n",
    "        distances.append(distance)\n",
    "    return distances"
   ]
  },
  {
   "cell_type": "code",
   "execution_count": 15,
   "metadata": {},
   "outputs": [],
   "source": [
    "def print_prediction(in_prediction):\n",
    "    print('ID: ', in_prediction['id'])\n",
    "    print('INPUT:')\n",
    "    for turn in in_prediction['input']:\n",
    "        print('{}: {}'.format(turn['side'], turn['utterance']))\n",
    "    print('TARGET:')\n",
    "    print(in_prediction['target'])\n",
    "    print('CANDIDATES:')\n",
    "    for cand_turn in in_prediction['candidates']:\n",
    "        print('{} [{}] [{}]'.format(cand_turn['utterance'], cand_turn['score'], cand_turn['method']))"
   ]
  },
  {
   "cell_type": "code",
   "execution_count": 4,
   "metadata": {},
   "outputs": [],
   "source": [
    "LOG_FILES = ['metalwoz_pure_ext_info_parsed.json', 'metalwoz_pure_ext_info_parsed.json', 'multiwoz_ext_info_parsed.json']"
   ]
  },
  {
   "cell_type": "code",
   "execution_count": 45,
   "metadata": {},
   "outputs": [],
   "source": [
    "logs = []\n",
    "for log_file in LOG_FILES:\n",
    "    with open(log_file) as log_in:\n",
    "        logs.append(json.load(log_in))"
   ]
  },
  {
   "cell_type": "markdown",
   "metadata": {},
   "source": [
    "# MetaLWOz pure task"
   ]
  },
  {
   "cell_type": "code",
   "execution_count": 93,
   "metadata": {},
   "outputs": [],
   "source": [
    "log = logs[0]\n",
    "distances = get_candidate_distances(log)\n",
    "min_max_preds = get_min_max_candidates(log, distances)"
   ]
  },
  {
   "cell_type": "markdown",
   "metadata": {},
   "source": [
    "### Predictions with 10 closest retrieved/generated pairs"
   ]
  },
  {
   "cell_type": "code",
   "execution_count": 75,
   "metadata": {
    "scrolled": false
   },
   "outputs": [
    {
     "name": "stdout",
     "output_type": "stream",
     "text": [
      "ID:  da417c64\n",
      "INPUT:\n",
      "Wizard: Hello how may I help you?\n",
      "User: What to do in Miami?\n",
      "Wizard: There are many fun things to in Miami. Are you looking for leisure or exciting activities?\n",
      "User: Both.\n",
      "Wizard: You can try parasailing or riding Jet Skis in Miami Beach. There are also snorkeling tours in Key West. Do\n",
      "User: Great. Added those on my list already.\n",
      "Wizard: You can also try visiting the Frost Art Museum in Miami. Hope this helps.\n",
      "User: Okay\n",
      "Wizard: Can I help you with anything else today?\n",
      "TARGET:\n",
      "Thats all.\n",
      "CANDIDATES:\n",
      "No thanks [1.831] [retrieved]\n",
      "No thanks [1.831] [generated]\n",
      "\n",
      "ID:  bfebee55\n",
      "INPUT:\n",
      "Wizard: Hello how may I help you?\n",
      "User: Yes I need to book a flight ASAP\n",
      "Wizard: to where?\n",
      "TARGET:\n",
      "I need to be in Europe by a certain date\n",
      "CANDIDATES:\n",
      "Europe [2.513] [retrieved]\n",
      "Europe [2.513] [generated]\n",
      "\n",
      "ID:  e8264eb8\n",
      "INPUT:\n",
      "Wizard: Hello how may I help you?\n",
      "User: Hi I need to book a flight to Hawaii for two\n",
      "Wizard: When do you want to go?\n",
      "User: June 10th Is a great day\n",
      "Wizard: I have two tickets available for $4000 each\n",
      "User: Wow! That's a big number...I can afford it but could you find me a coupon anyway...I love a steal! Promo\n",
      "Wizard: Sorry, that's the best we can do.\n",
      "User: Well go ahead and book that one for me\n",
      "Wizard: It's booked.\n",
      "TARGET:\n",
      "Thanks for your help!\n",
      "CANDIDATES:\n",
      "Thanks [0.541] [retrieved]\n",
      "Thanks [0.541] [generated]\n",
      "\n",
      "ID:  9ad0f1f2\n",
      "INPUT:\n",
      "Wizard: Hello how may I help you?\n",
      "User: I need help with a flight please!\n",
      "Wizard: What do you want to do?\n",
      "User: I need to get to Europe by next Tuesday\n",
      "Wizard: There are many flight options available. Would you like me to list them?\n",
      "TARGET:\n",
      "Yes please. Anything that will get me there by Tuesday\n",
      "CANDIDATES:\n",
      "Sure [1.547] [retrieved]\n",
      "Sure [1.547] [generated]\n",
      "\n",
      "ID:  a17ca728\n",
      "INPUT:\n",
      "Wizard: Hello how may I help you?\n",
      "User: I'm curious about the best time of year to visit Cyprus\n",
      "Wizard: the best time is during the Springs\n",
      "User: Excellent. Are there any things I must do while there\n",
      "Wizard: yes you must visit the museums there\n",
      "User: Awesome, I do love museums. Thank you for the info. Have you been there before?\n",
      "Wizard: i have not but i heard great things about it\n",
      "User: Cool. Thanks so much\n",
      "Wizard: no problem\n",
      "TARGET:\n",
      "Bye for now\n",
      "CANDIDATES:\n",
      "Have a good day [0.728] [retrieved]\n",
      "Have a good day [0.728] [generated]\n",
      "\n",
      "ID:  ce9f4554\n",
      "INPUT:\n",
      "Wizard: Hello how may I help you?\n",
      "User: i need a flight to hawaii\n",
      "Wizard: Sure. What time?\n",
      "TARGET:\n",
      "tonight\n",
      "CANDIDATES:\n",
      "tonight [3.354] [retrieved]\n",
      "tonight [3.354] [generated]\n",
      "\n",
      "ID:  b4d13d2f\n",
      "INPUT:\n",
      "Wizard: Hello how may I help you?\n",
      "User: i have a equest\n",
      "Wizard: sure thing\n",
      "User: what is the best place to bring kids?\n",
      "Wizard: disneyland/world\n",
      "User: how much cost it would be?\n",
      "Wizard: $600 per head\n",
      "User: thats expensive\n",
      "Wizard: yeah sorry\n",
      "TARGET:\n",
      "thats okay\n",
      "CANDIDATES:\n",
      "okay thanks [-0.221] [retrieved]\n",
      "okay thanks [-0.221] [generated]\n",
      "\n",
      "ID:  876d277d\n",
      "INPUT:\n",
      "Wizard: Hello how may I help you?\n",
      "User: I have a question about a trip i'm going to be taking.\n",
      "Wizard: i am a bot here to help you with tourist info, what is you question?\n",
      "TARGET:\n",
      "I'm going to miami and wanted to know what there is to do there.\n",
      "CANDIDATES:\n",
      "What is there to do in Miami? [-1.006] [retrieved]\n",
      "What is there to do in Miami? [-1.006] [generated]\n",
      "\n",
      "ID:  ad3936cc\n",
      "INPUT:\n",
      "Wizard: Hello how may I help you?\n",
      "User: booking flights\n",
      "Wizard: I can help you with that. What is your travel destination?\n",
      "TARGET:\n",
      "i need any flight to Europe by next Tuesday\n",
      "CANDIDATES:\n",
      "europe [-4.843] [retrieved]\n",
      "europe [-4.843] [generated]\n",
      "\n",
      "ID:  1b09f1b2\n",
      "INPUT:\n",
      "Wizard: Hello how may I help you?\n",
      "User: I need some vacation help.\n",
      "Wizard: Tell me more of what you would like to know about vacations?\n",
      "TARGET:\n",
      "I need a place that would be good to bring kids to.\n",
      "CANDIDATES:\n",
      "I want to spend a weekend with my kids. I don't want to spend too much time with [-0.471] [generated]\n",
      "Where's a good place to bring some kids? [-0.583] [retrieved]\n",
      "\n"
     ]
    }
   ],
   "source": [
    "min_preds = min_max_preds['min']\n",
    "for _, pred in min_preds:\n",
    "    print_prediction(pred)\n",
    "    print('')"
   ]
  },
  {
   "cell_type": "markdown",
   "metadata": {},
   "source": [
    "### Prediction with the most distant retrieved and generated scores"
   ]
  },
  {
   "cell_type": "code",
   "execution_count": 57,
   "metadata": {
    "scrolled": false
   },
   "outputs": [
    {
     "name": "stdout",
     "output_type": "stream",
     "text": [
      "ID:  1b09f1b2\n",
      "INPUT:\n",
      "Wizard: Hello how may I help you?\n",
      "User: I need some vacation help.\n",
      "Wizard: Tell me more of what you would like to know about vacations?\n",
      "TARGET:\n",
      "I need a place that would be good to bring kids to.\n",
      "CANDIDATES:\n",
      "I want to spend a weekend with my kids. I don't want to spend too much time with [-0.471] [generated]\n",
      "Where's a good place to bring some kids? [-0.583] [retrieved]\n",
      "\n",
      "ID:  c8322f9b\n",
      "INPUT:\n",
      "Wizard: Hello how may I help you?\n",
      "User: hello, I need tourism advise\n",
      "Wizard: I can set you up.\n",
      "User: what is the best time to visit cyptus? cyprus\n",
      "Wizard: Early summer is the best if you ask me.\n",
      "User: ok thank you.\n",
      "Wizard: Right now is a really good time. Do you have time off soon?\n",
      "User: yes, i am planning to go there at summer.\n",
      "Wizard: How many vacation days have you got piled up?\n",
      "TARGET:\n",
      "2 weeks. thank you.\n",
      "CANDIDATES:\n",
      "i only have vacation days, i need to look forward to the trip. [3.723] [generated]\n",
      "thank you for your help [-8.222] [retrieved]\n",
      "\n",
      "ID:  174602b7\n",
      "INPUT:\n",
      "Wizard: Hello how may I help you?\n",
      "User: I need some ideas.\n",
      "Wizard: Okay, what about?\n",
      "User: I'm going to be taking my vacation soon\n",
      "Wizard: Where will you like to go?\n",
      "TARGET:\n",
      "I need someone good for the kids. somewhere*\n",
      "CANDIDATES:\n",
      "Well, I'm going to be in Miami [2.13] [generated]\n",
      "yes please. [-10.672] [retrieved]\n",
      "\n",
      "ID:  8a759663\n",
      "INPUT:\n",
      "Wizard: Hello how may I help you?\n",
      "User: I need to get some hotel rooms.\n",
      "Wizard: Okay, how many rooms do you need?\n",
      "User: I need three I guess. They need to all be on the same floor.\n",
      "Wizard: I'm sorry we don't have 3 rooms vacant on the same floor. We do have 3 vacancies but they would have to be on\n",
      "User: Well, that's not optimal, but if that's the only option I guess I'll take it.\n",
      "Wizard: Okay, what is the name that will be checking in?\n",
      "User: Max Bialystok.\n",
      "Wizard: Okay Max, and what time will you be checking in?\n",
      "TARGET:\n",
      "11 AM.\n",
      "CANDIDATES:\n",
      "5:00 PM. [6.773] [generated]\n",
      "I would like the rooms reserved for May 4th to May 6h [-6.404] [retrieved]\n",
      "\n",
      "ID:  b7c1d559\n",
      "INPUT:\n",
      "Wizard: Hello how may I help you?\n",
      "User: I need an idea.\n",
      "Wizard: Sure, what's up?\n",
      "User: Can use advise me on a vacation spot?\n",
      "Wizard: Yes. Disney World and Disney Land are always fun for children and adults, but it's really expensive\n",
      "User: Anything closer?\n",
      "Wizard: Have you ever been to Niagara Falls?\n",
      "User: Yes,but that's too far away.\n",
      "Wizard: Where is your location?\n",
      "TARGET:\n",
      "Nebraska\n",
      "CANDIDATES:\n",
      "I'm in New York. [3.711] [generated]\n",
      "ok, thanks [-9.605] [retrieved]\n",
      "\n",
      "ID:  cb0a340f\n",
      "INPUT:\n",
      "Wizard: Hello how may I help you?\n",
      "User: hi i need some help with booking a hotel room.\n",
      "Wizard: I am designed to help with hotel bookings.\n",
      "TARGET:\n",
      "great. i need a room in a hotel in downtown toronto. are there any options below $150?\n",
      "CANDIDATES:\n",
      "alright i need to book a room with two beds on the second floor of a hotel in downtown Toronto [2.761] []\n",
      "Thanks [-11.62] [retrieved]\n",
      "\n",
      "ID:  189acc1e\n",
      "INPUT:\n",
      "Wizard: Hello how may I help you?\n",
      "User: I need to book a room for me\n",
      "Wizard: OK. Where do you want to stay?\n",
      "User: In downtown Toronto\n",
      "Wizard: And for what dates would you like the room?\n",
      "User: I need a 2 bedroom on the second floor I'd like to stay for this weekend\n",
      "Wizard: And how many people will be in your party?\n",
      "TARGET:\n",
      "2\n",
      "CANDIDATES:\n",
      "Just myself and a few friends please [3.82] [generated]\n",
      "Price isn't a concern. I would like a room on the second floor with 2 beds if that helps. [-9.183] [retrieved]\n",
      "\n",
      "ID:  2328e2e3\n",
      "INPUT:\n",
      "Wizard: Hello how may I help you?\n",
      "User: I need to cancel a reservation for a hotel in New York City\n",
      "Wizard: Im sorry i can not do that for you, you will need to call the hotel directly\n",
      "User: Okay. Can you give me the number for the Central Park Plaza Hotel in NYC?\n",
      "Wizard: Just a second\n",
      "User: Okay.\n",
      "Wizard: The number is 265-569-7894\n",
      "User: Thanks. Can you book hotels in Europe?\n",
      "Wizard: Yes i can, what country in Europe?\n",
      "TARGET:\n",
      "None in particular, I was just curious if you were an international booking agent. Thanks for the info.\n",
      "CANDIDATES:\n",
      "Spain. [4.42] [generated]\n",
      "Got it thank you [-10.174] [retrieved]\n",
      "\n",
      "ID:  7596b1d7\n",
      "INPUT:\n",
      "Wizard: Hello how may I help you?\n",
      "User: Hello. I need to book a flight for two\n",
      "Wizard: ok where are you going?\n",
      "User: I will be heading to Hawaii and I need to leave tonight\n",
      "Wizard: will you be bringing extra luggage?\n",
      "User: No, I will need first class seats. Money is no object\n",
      "Wizard: i have 2 tickets for $50,000\n",
      "User: Okay, that will be fine. Please purchase with my credit card on file\n",
      "Wizard: just to verify, what is the last 2 digits of your credit card?\n",
      "TARGET:\n",
      "The last two digits of my credit card are 00\n",
      "CANDIDATES:\n",
      "The last 2 digits are: 5555 [5.081] [generated]\n",
      "Sure. Just sent it to my email. Thanks! [-9.761] [retrieved]\n",
      "\n",
      "ID:  c9595979\n",
      "INPUT:\n",
      "Wizard: Hello how may I help you?\n",
      "User: I need some tourism help.\n",
      "Wizard: where would you like to travel to?\n",
      "User: Montreal. I''m going there this summer. Where are some good spots to go?\n",
      "Wizard: it depends on how much your are willing ti spent.\n",
      "User: Well, I'm looking for some festivals in the area around that time. Can you just give me some suggestions?\n",
      "Wizard: what is your budget?\n",
      "TARGET:\n",
      "Budget doesn't matter. I just want to know where I can go.\n",
      "CANDIDATES:\n",
      "My budget is $15.00 per ticket. [2.109] [generated]\n",
      "Great! Thanks so muvh [-14.034] [retrieved]\n",
      "\n"
     ]
    }
   ],
   "source": [
    "max_preds = min_max_preds['max']\n",
    "for _, pred in max_preds:\n",
    "    print_prediction(pred)\n",
    "    print('')"
   ]
  },
  {
   "cell_type": "markdown",
   "metadata": {},
   "source": [
    "### Histogram of distances between the gen/ret candidates' scores"
   ]
  },
  {
   "cell_type": "code",
   "execution_count": 76,
   "metadata": {},
   "outputs": [
    {
     "data": {
      "image/png": "[encoded data removed]",
      "text/plain": [
       "<Figure size 432x288 with 1 Axes>"
      ]
     },
     "metadata": {
      "needs_background": "light"
     },
     "output_type": "display_data"
    }
   ],
   "source": [
    "plt.hist(distances, bins=10)\n",
    "plt.show()"
   ]
  },
  {
   "cell_type": "markdown",
   "metadata": {},
   "source": [
    "### Histogram of distances - zero/non-zero"
   ]
  },
  {
   "cell_type": "code",
   "execution_count": 78,
   "metadata": {},
   "outputs": [
    {
     "data": {
      "image/png": "[encoded data removed]",
      "text/plain": [
       "<Figure size 432x288 with 1 Axes>"
      ]
     },
     "metadata": {
      "needs_background": "light"
     },
     "output_type": "display_data"
    }
   ],
   "source": [
    "plt.hist([int(distance != 0.0) for distance in distances], bins=10)\n",
    "plt.show()"
   ]
  },
  {
   "cell_type": "markdown",
   "metadata": {},
   "source": [
    "### NLG-Eval metrics between ground truth targets and generated/retrieved responses"
   ]
  },
  {
   "cell_type": "code",
   "execution_count": 108,
   "metadata": {},
   "outputs": [],
   "source": [
    "targets, gen_candidates, ret_candidates = [], [], []\n",
    "for prediction in log:\n",
    "    candidates = prediction['candidates']\n",
    "    gen_candidates_i = [candidate['utterance'] for candidate in candidates\n",
    "                        if candidate['method'] == 'generated']\n",
    "    ret_candidates_i = [candidate['utterance'] for candidate in candidates\n",
    "                        if candidate['method'] == 'retrieved']\n",
    "    if not len(ret_candidates_i) or not len(gen_candidates_i):\n",
    "        continue\n",
    "    targets.append(prediction['target'])\n",
    "    gen_candidates.append(gen_candidates_i[0])\n",
    "    ret_candidates.append(ret_candidates_i[0])"
   ]
  },
  {
   "cell_type": "code",
   "execution_count": 116,
   "metadata": {},
   "outputs": [
    {
     "data": {
      "text/plain": [
       "{'Bleu_1': 0.13775401958052755,\n",
       " 'Bleu_2': 0.08709841483809297,\n",
       " 'Bleu_3': 0.06053476737727977,\n",
       " 'Bleu_4': 0.043493544949373394,\n",
       " 'METEOR': 0.09700586169517364,\n",
       " 'ROUGE_L': 0.1249785288608312,\n",
       " 'CIDEr': 0.339336160363538}"
      ]
     },
     "execution_count": 116,
     "metadata": {},
     "output_type": "execute_result"
    }
   ],
   "source": [
    "NLGEVAL.compute_metrics([targets], gen_candidates)"
   ]
  },
  {
   "cell_type": "code",
   "execution_count": 117,
   "metadata": {},
   "outputs": [
    {
     "data": {
      "text/plain": [
       "{'Bleu_1': 0.13134569376126987,\n",
       " 'Bleu_2': 0.08049205082782263,\n",
       " 'Bleu_3': 0.05600173107632877,\n",
       " 'Bleu_4': 0.041217311572226585,\n",
       " 'METEOR': 0.09318854214218383,\n",
       " 'ROUGE_L': 0.10631682326911585,\n",
       " 'CIDEr': 0.2712611723902696}"
      ]
     },
     "execution_count": 117,
     "metadata": {},
     "output_type": "execute_result"
    }
   ],
   "source": [
    "NLGEVAL.compute_metrics([targets], ret_candidates)"
   ]
  },
  {
   "cell_type": "markdown",
   "metadata": {},
   "source": [
    "# MetaLWOz cross task"
   ]
  },
  {
   "cell_type": "code",
   "execution_count": 118,
   "metadata": {},
   "outputs": [],
   "source": [
    "log = logs[1]\n",
    "distances = get_candidate_distances(log)\n",
    "min_max_preds = get_min_max_candidates(log, distances)"
   ]
  },
  {
   "cell_type": "markdown",
   "metadata": {},
   "source": [
    "### Predictions with 10 closest retrieved/generated pairs"
   ]
  },
  {
   "cell_type": "code",
   "execution_count": 119,
   "metadata": {
    "scrolled": false
   },
   "outputs": [
    {
     "name": "stdout",
     "output_type": "stream",
     "text": [
      "ID:  da417c64\n",
      "INPUT:\n",
      "Wizard: Hello how may I help you?\n",
      "User: What to do in Miami?\n",
      "Wizard: There are many fun things to in Miami. Are you looking for leisure or exciting activities?\n",
      "User: Both.\n",
      "Wizard: You can try parasailing or riding Jet Skis in Miami Beach. There are also snorkeling tours in Key West. Do\n",
      "User: Great. Added those on my list already.\n",
      "Wizard: You can also try visiting the Frost Art Museum in Miami. Hope this helps.\n",
      "User: Okay\n",
      "Wizard: Can I help you with anything else today?\n",
      "TARGET:\n",
      "Thats all.\n",
      "CANDIDATES:\n",
      "No thanks [1.831] [retrieved]\n",
      "No thanks [1.831] [generated]\n",
      "\n",
      "ID:  bfebee55\n",
      "INPUT:\n",
      "Wizard: Hello how may I help you?\n",
      "User: Yes I need to book a flight ASAP\n",
      "Wizard: to where?\n",
      "TARGET:\n",
      "I need to be in Europe by a certain date\n",
      "CANDIDATES:\n",
      "Europe [2.513] [retrieved]\n",
      "Europe [2.513] [generated]\n",
      "\n",
      "ID:  e8264eb8\n",
      "INPUT:\n",
      "Wizard: Hello how may I help you?\n",
      "User: Hi I need to book a flight to Hawaii for two\n",
      "Wizard: When do you want to go?\n",
      "User: June 10th Is a great day\n",
      "Wizard: I have two tickets available for $4000 each\n",
      "User: Wow! That's a big number...I can afford it but could you find me a coupon anyway...I love a steal! Promo\n",
      "Wizard: Sorry, that's the best we can do.\n",
      "User: Well go ahead and book that one for me\n",
      "Wizard: It's booked.\n",
      "TARGET:\n",
      "Thanks for your help!\n",
      "CANDIDATES:\n",
      "Thanks [0.541] [retrieved]\n",
      "Thanks [0.541] [generated]\n",
      "\n",
      "ID:  9ad0f1f2\n",
      "INPUT:\n",
      "Wizard: Hello how may I help you?\n",
      "User: I need help with a flight please!\n",
      "Wizard: What do you want to do?\n",
      "User: I need to get to Europe by next Tuesday\n",
      "Wizard: There are many flight options available. Would you like me to list them?\n",
      "TARGET:\n",
      "Yes please. Anything that will get me there by Tuesday\n",
      "CANDIDATES:\n",
      "Sure [1.547] [retrieved]\n",
      "Sure [1.547] [generated]\n",
      "\n",
      "ID:  a17ca728\n",
      "INPUT:\n",
      "Wizard: Hello how may I help you?\n",
      "User: I'm curious about the best time of year to visit Cyprus\n",
      "Wizard: the best time is during the Springs\n",
      "User: Excellent. Are there any things I must do while there\n",
      "Wizard: yes you must visit the museums there\n",
      "User: Awesome, I do love museums. Thank you for the info. Have you been there before?\n",
      "Wizard: i have not but i heard great things about it\n",
      "User: Cool. Thanks so much\n",
      "Wizard: no problem\n",
      "TARGET:\n",
      "Bye for now\n",
      "CANDIDATES:\n",
      "Have a good day [0.728] [retrieved]\n",
      "Have a good day [0.728] [generated]\n",
      "\n",
      "ID:  ce9f4554\n",
      "INPUT:\n",
      "Wizard: Hello how may I help you?\n",
      "User: i need a flight to hawaii\n",
      "Wizard: Sure. What time?\n",
      "TARGET:\n",
      "tonight\n",
      "CANDIDATES:\n",
      "tonight [3.354] [retrieved]\n",
      "tonight [3.354] [generated]\n",
      "\n",
      "ID:  b4d13d2f\n",
      "INPUT:\n",
      "Wizard: Hello how may I help you?\n",
      "User: i have a equest\n",
      "Wizard: sure thing\n",
      "User: what is the best place to bring kids?\n",
      "Wizard: disneyland/world\n",
      "User: how much cost it would be?\n",
      "Wizard: $600 per head\n",
      "User: thats expensive\n",
      "Wizard: yeah sorry\n",
      "TARGET:\n",
      "thats okay\n",
      "CANDIDATES:\n",
      "okay thanks [-0.221] [retrieved]\n",
      "okay thanks [-0.221] [generated]\n",
      "\n",
      "ID:  876d277d\n",
      "INPUT:\n",
      "Wizard: Hello how may I help you?\n",
      "User: I have a question about a trip i'm going to be taking.\n",
      "Wizard: i am a bot here to help you with tourist info, what is you question?\n",
      "TARGET:\n",
      "I'm going to miami and wanted to know what there is to do there.\n",
      "CANDIDATES:\n",
      "What is there to do in Miami? [-1.006] [retrieved]\n",
      "What is there to do in Miami? [-1.006] [generated]\n",
      "\n",
      "ID:  ad3936cc\n",
      "INPUT:\n",
      "Wizard: Hello how may I help you?\n",
      "User: booking flights\n",
      "Wizard: I can help you with that. What is your travel destination?\n",
      "TARGET:\n",
      "i need any flight to Europe by next Tuesday\n",
      "CANDIDATES:\n",
      "europe [-4.843] [retrieved]\n",
      "europe [-4.843] [generated]\n",
      "\n",
      "ID:  1b09f1b2\n",
      "INPUT:\n",
      "Wizard: Hello how may I help you?\n",
      "User: I need some vacation help.\n",
      "Wizard: Tell me more of what you would like to know about vacations?\n",
      "TARGET:\n",
      "I need a place that would be good to bring kids to.\n",
      "CANDIDATES:\n",
      "I want to spend a weekend with my kids. I don't want to spend too much time with [-0.471] [generated]\n",
      "Where's a good place to bring some kids? [-0.583] [retrieved]\n",
      "\n"
     ]
    }
   ],
   "source": [
    "min_preds = min_max_preds['min']\n",
    "for _, pred in min_preds:\n",
    "    print_prediction(pred)\n",
    "    print('')"
   ]
  },
  {
   "cell_type": "markdown",
   "metadata": {},
   "source": [
    "### Prediction with the most distant retrieved and generated scores"
   ]
  },
  {
   "cell_type": "code",
   "execution_count": 120,
   "metadata": {
    "scrolled": false
   },
   "outputs": [
    {
     "name": "stdout",
     "output_type": "stream",
     "text": [
      "ID:  c9595979\n",
      "INPUT:\n",
      "Wizard: Hello how may I help you?\n",
      "User: I need some tourism help.\n",
      "Wizard: where would you like to travel to?\n",
      "User: Montreal. I''m going there this summer. Where are some good spots to go?\n",
      "Wizard: it depends on how much your are willing ti spent.\n",
      "User: Well, I'm looking for some festivals in the area around that time. Can you just give me some suggestions?\n",
      "Wizard: what is your budget?\n",
      "TARGET:\n",
      "Budget doesn't matter. I just want to know where I can go.\n",
      "CANDIDATES:\n",
      "My budget is $15.00 per ticket. [2.109] [generated]\n",
      "Great! Thanks so muvh [-14.034] [retrieved]\n",
      "\n",
      "ID:  7596b1d7\n",
      "INPUT:\n",
      "Wizard: Hello how may I help you?\n",
      "User: Hello. I need to book a flight for two\n",
      "Wizard: ok where are you going?\n",
      "User: I will be heading to Hawaii and I need to leave tonight\n",
      "Wizard: will you be bringing extra luggage?\n",
      "User: No, I will need first class seats. Money is no object\n",
      "Wizard: i have 2 tickets for $50,000\n",
      "User: Okay, that will be fine. Please purchase with my credit card on file\n",
      "Wizard: just to verify, what is the last 2 digits of your credit card?\n",
      "TARGET:\n",
      "The last two digits of my credit card are 00\n",
      "CANDIDATES:\n",
      "The last 2 digits are: 5555 [5.081] [generated]\n",
      "Sure. Just sent it to my email. Thanks! [-9.761] [retrieved]\n",
      "\n",
      "ID:  2328e2e3\n",
      "INPUT:\n",
      "Wizard: Hello how may I help you?\n",
      "User: I need to cancel a reservation for a hotel in New York City\n",
      "Wizard: Im sorry i can not do that for you, you will need to call the hotel directly\n",
      "User: Okay. Can you give me the number for the Central Park Plaza Hotel in NYC?\n",
      "Wizard: Just a second\n",
      "User: Okay.\n",
      "Wizard: The number is 265-569-7894\n",
      "User: Thanks. Can you book hotels in Europe?\n",
      "Wizard: Yes i can, what country in Europe?\n",
      "TARGET:\n",
      "None in particular, I was just curious if you were an international booking agent. Thanks for the info.\n",
      "CANDIDATES:\n",
      "Spain. [4.42] [generated]\n",
      "Got it thank you [-10.174] [retrieved]\n",
      "\n",
      "ID:  189acc1e\n",
      "INPUT:\n",
      "Wizard: Hello how may I help you?\n",
      "User: I need to book a room for me\n",
      "Wizard: OK. Where do you want to stay?\n",
      "User: In downtown Toronto\n",
      "Wizard: And for what dates would you like the room?\n",
      "User: I need a 2 bedroom on the second floor I'd like to stay for this weekend\n",
      "Wizard: And how many people will be in your party?\n",
      "TARGET:\n",
      "2\n",
      "CANDIDATES:\n",
      "Just myself and a few friends please [3.82] [generated]\n",
      "Price isn't a concern. I would like a room on the second floor with 2 beds if that helps. [-9.183] [retrieved]\n",
      "\n",
      "ID:  cb0a340f\n",
      "INPUT:\n",
      "Wizard: Hello how may I help you?\n",
      "User: hi i need some help with booking a hotel room.\n",
      "Wizard: I am designed to help with hotel bookings.\n",
      "TARGET:\n",
      "great. i need a room in a hotel in downtown toronto. are there any options below $150?\n",
      "CANDIDATES:\n",
      "alright i need to book a room with two beds on the second floor of a hotel in downtown Toronto [2.761] []\n",
      "Thanks [-11.62] [retrieved]\n",
      "\n",
      "ID:  b7c1d559\n",
      "INPUT:\n",
      "Wizard: Hello how may I help you?\n",
      "User: I need an idea.\n",
      "Wizard: Sure, what's up?\n",
      "User: Can use advise me on a vacation spot?\n",
      "Wizard: Yes. Disney World and Disney Land are always fun for children and adults, but it's really expensive\n",
      "User: Anything closer?\n",
      "Wizard: Have you ever been to Niagara Falls?\n",
      "User: Yes,but that's too far away.\n",
      "Wizard: Where is your location?\n",
      "TARGET:\n",
      "Nebraska\n",
      "CANDIDATES:\n",
      "I'm in New York. [3.711] [generated]\n",
      "ok, thanks [-9.605] [retrieved]\n",
      "\n",
      "ID:  8a759663\n",
      "INPUT:\n",
      "Wizard: Hello how may I help you?\n",
      "User: I need to get some hotel rooms.\n",
      "Wizard: Okay, how many rooms do you need?\n",
      "User: I need three I guess. They need to all be on the same floor.\n",
      "Wizard: I'm sorry we don't have 3 rooms vacant on the same floor. We do have 3 vacancies but they would have to be on\n",
      "User: Well, that's not optimal, but if that's the only option I guess I'll take it.\n",
      "Wizard: Okay, what is the name that will be checking in?\n",
      "User: Max Bialystok.\n",
      "Wizard: Okay Max, and what time will you be checking in?\n",
      "TARGET:\n",
      "11 AM.\n",
      "CANDIDATES:\n",
      "5:00 PM. [6.773] [generated]\n",
      "I would like the rooms reserved for May 4th to May 6h [-6.404] [retrieved]\n",
      "\n",
      "ID:  174602b7\n",
      "INPUT:\n",
      "Wizard: Hello how may I help you?\n",
      "User: I need some ideas.\n",
      "Wizard: Okay, what about?\n",
      "User: I'm going to be taking my vacation soon\n",
      "Wizard: Where will you like to go?\n",
      "TARGET:\n",
      "I need someone good for the kids. somewhere*\n",
      "CANDIDATES:\n",
      "Well, I'm going to be in Miami [2.13] [generated]\n",
      "yes please. [-10.672] [retrieved]\n",
      "\n",
      "ID:  c8322f9b\n",
      "INPUT:\n",
      "Wizard: Hello how may I help you?\n",
      "User: hello, I need tourism advise\n",
      "Wizard: I can set you up.\n",
      "User: what is the best time to visit cyptus? cyprus\n",
      "Wizard: Early summer is the best if you ask me.\n",
      "User: ok thank you.\n",
      "Wizard: Right now is a really good time. Do you have time off soon?\n",
      "User: yes, i am planning to go there at summer.\n",
      "Wizard: How many vacation days have you got piled up?\n",
      "TARGET:\n",
      "2 weeks. thank you.\n",
      "CANDIDATES:\n",
      "i only have vacation days, i need to look forward to the trip. [3.723] [generated]\n",
      "thank you for your help [-8.222] [retrieved]\n",
      "\n",
      "ID:  1b09f1b2\n",
      "INPUT:\n",
      "Wizard: Hello how may I help you?\n",
      "User: I need some vacation help.\n",
      "Wizard: Tell me more of what you would like to know about vacations?\n",
      "TARGET:\n",
      "I need a place that would be good to bring kids to.\n",
      "CANDIDATES:\n",
      "I want to spend a weekend with my kids. I don't want to spend too much time with [-0.471] [generated]\n",
      "Where's a good place to bring some kids? [-0.583] [retrieved]\n",
      "\n"
     ]
    }
   ],
   "source": [
    "max_preds = min_max_preds['max']\n",
    "for _, pred in max_preds:\n",
    "    print_prediction(pred)\n",
    "    print('')"
   ]
  },
  {
   "cell_type": "markdown",
   "metadata": {},
   "source": [
    "### Histogram of distances between the gen/ret candidates' scores"
   ]
  },
  {
   "cell_type": "code",
   "execution_count": 121,
   "metadata": {},
   "outputs": [
    {
     "data": {
      "image/png": "[encoded data removed]",
      "text/plain": [
       "<Figure size 432x288 with 1 Axes>"
      ]
     },
     "metadata": {
      "needs_background": "light"
     },
     "output_type": "display_data"
    }
   ],
   "source": [
    "plt.hist(distances, bins=10)\n",
    "plt.show()"
   ]
  },
  {
   "cell_type": "markdown",
   "metadata": {},
   "source": [
    "### Histogram of distances - zero/non-zero"
   ]
  },
  {
   "cell_type": "code",
   "execution_count": 122,
   "metadata": {},
   "outputs": [
    {
     "data": {
      "image/png": "[encoded data removed]",
      "text/plain": [
       "<Figure size 432x288 with 1 Axes>"
      ]
     },
     "metadata": {
      "needs_background": "light"
     },
     "output_type": "display_data"
    }
   ],
   "source": [
    "plt.hist([int(distance != 0.0) for distance in distances], bins=10)\n",
    "plt.show()"
   ]
  },
  {
   "cell_type": "markdown",
   "metadata": {},
   "source": [
    "### NLG-Eval metrics between ground truth targets and generated/retrieved responses"
   ]
  },
  {
   "cell_type": "code",
   "execution_count": 123,
   "metadata": {},
   "outputs": [],
   "source": [
    "targets, gen_candidates, ret_candidates = [], [], []\n",
    "for prediction in log:\n",
    "    candidates = prediction['candidates']\n",
    "    gen_candidates_i = [candidate['utterance'] for candidate in candidates\n",
    "                        if candidate['method'] == 'generated']\n",
    "    ret_candidates_i = [candidate['utterance'] for candidate in candidates\n",
    "                        if candidate['method'] == 'retrieved']\n",
    "    if not len(ret_candidates_i) or not len(gen_candidates_i):\n",
    "        continue\n",
    "    targets.append(prediction['target'])\n",
    "    gen_candidates.append(gen_candidates_i[0])\n",
    "    ret_candidates.append(ret_candidates_i[0])"
   ]
  },
  {
   "cell_type": "code",
   "execution_count": 124,
   "metadata": {},
   "outputs": [
    {
     "data": {
      "text/plain": [
       "{'Bleu_1': 0.13775401958052755,\n",
       " 'Bleu_2': 0.08709841483809297,\n",
       " 'Bleu_3': 0.06053476737727977,\n",
       " 'Bleu_4': 0.043493544949373394,\n",
       " 'METEOR': 0.09700586169517364,\n",
       " 'ROUGE_L': 0.1249785288608312,\n",
       " 'CIDEr': 0.339336160363538}"
      ]
     },
     "execution_count": 124,
     "metadata": {},
     "output_type": "execute_result"
    }
   ],
   "source": [
    "NLGEVAL.compute_metrics([targets], gen_candidates)"
   ]
  },
  {
   "cell_type": "code",
   "execution_count": 125,
   "metadata": {},
   "outputs": [
    {
     "data": {
      "text/plain": [
       "{'Bleu_1': 0.13134569376126987,\n",
       " 'Bleu_2': 0.08049205082782263,\n",
       " 'Bleu_3': 0.05600173107632877,\n",
       " 'Bleu_4': 0.041217311572226585,\n",
       " 'METEOR': 0.09318854214218383,\n",
       " 'ROUGE_L': 0.10631682326911585,\n",
       " 'CIDEr': 0.2712611723902696}"
      ]
     },
     "execution_count": 125,
     "metadata": {},
     "output_type": "execute_result"
    }
   ],
   "source": [
    "NLGEVAL.compute_metrics([targets], ret_candidates)"
   ]
  },
  {
   "cell_type": "markdown",
   "metadata": {},
   "source": [
    "# MultiWoz"
   ]
  },
  {
   "cell_type": "code",
   "execution_count": 126,
   "metadata": {},
   "outputs": [],
   "source": [
    "log = logs[2]\n",
    "distances = get_candidate_distances(log)\n",
    "min_max_preds = get_min_max_candidates(log, distances)"
   ]
  },
  {
   "cell_type": "markdown",
   "metadata": {},
   "source": [
    "### Predictions with 10 closest retrieved/generated pairs"
   ]
  },
  {
   "cell_type": "code",
   "execution_count": 127,
   "metadata": {
    "scrolled": false
   },
   "outputs": [
    {
     "name": "stdout",
     "output_type": "stream",
     "text": [
      "ID:  SSNG0390\n",
      "INPUT:\n",
      "Wizard: Hello, how may I help you?\n",
      "User: Can you find me a hotel in the moderate price range?\n",
      "Wizard: There are 18 hotels in the moderate price range. Are you looking for free parking or free wifi?\n",
      "User: I don't need internet. Are any of them 3 stars?\n",
      "Wizard: No none of them are 3 stars or 4 stars, I have a few that are 2 stars would they be okay?\n",
      "User: If that's all that is available that's fine, I need it for 1 person for 3 nights starting Thursday, please\n",
      "Wizard: Great! I have booked you at Lovell Lodge with reference number 6YI7ENAC. May I help with anything else?\n",
      "User: No that is all I need. Thanks for your help.\n",
      "Wizard: Have a good day. Thank you for using our service.\n",
      "TARGET:\n",
      "Thank you! Have a great day!\n",
      "CANDIDATES:\n",
      "Thanks again for your help. [3.282] [retrieved]\n",
      "Thanks again! [3.282] [generated]\n",
      "\n",
      "ID:  SSNG0151\n",
      "INPUT:\n",
      "Wizard: Hello, how may I help you?\n",
      "User: I am looking for a place to dine located in the centre and in the moderate price range. Can you help me?\n",
      "Wizard: You're in luck, we have many moderately priced restaurants in the centre. Cuisine offerings vary from asian\n",
      "User: is there chinese available?\n",
      "Wizard: Yes, there are 3. Can I make a dinner reservation for you at one of them?\n",
      "User: Yes please make it for sunday at 14:00, for 4 people. And can I also get the reference number?\n",
      "Wizard: I was able to book Ian Hong House, reference number is E8V1XGOA.\n",
      "User: Thanks so much!\n",
      "Wizard: Is there anything else I can assist you with today?\n",
      "TARGET:\n",
      "No thank you. That will be all.\n",
      "CANDIDATES:\n",
      "No, that's all. [1.545] [generated]\n",
      "No, that's all I needed. Thanks so much. [1.545] [retrieved]\n",
      "\n",
      "ID:  SNG0825\n",
      "INPUT:\n",
      "Wizard: Hello, how may I help you?\n",
      "User: I need a cheap hotel.\n",
      "Wizard: I found ten results! What area of town would you like?\n",
      "User: Hmm, I'm not sure. I am looking for a guesthouse type, though, and it doesn't need to have free parking.\n",
      "Wizard: I have 9 that matches your needs. Shall I recommend a nice one?\n",
      "User: I would prefer one in the cheap range, a moderately priced one is fine if a cheap one isn't there.\n",
      "Wizard: The alexander bed and breakfast is a good option.\n",
      "User: Does The Alexander have internet?\n",
      "Wizard: Yes, it does have internet! Would you like me to book that for you?\n",
      "TARGET:\n",
      "Not yet, can I get the phone number?\n",
      "CANDIDATES:\n",
      "Yes, please. [0.144] [retrieved]\n",
      "Yes, please. [0.144] [generated]\n",
      "\n",
      "ID:  SNG02130\n",
      "INPUT:\n",
      "Wizard: Hello, how may I help you?\n",
      "User: Where in the east can I find a restaurant that serves venetian food?\n",
      "Wizard: I'm sorry there are no results for a venetian restaurant in the east, would you like to try a different area?\n",
      "User: I prefer the east but I am open to other areas of town.\n",
      "Wizard: Do you want me to look at the center of the town?\n",
      "User: Yes see if there are any venetian restaurants there\n",
      "Wizard: No there are not. Want to try a different restaurant type?\n",
      "User: How about indian food?\n",
      "Wizard: I have 9 restaurants in the cetre that are Indian. Do you have a price range?\n",
      "User: I would like expensive.\n",
      "Wizard: There are five expensive indian places in the centre but i recommend panahar, would you like more info or a\n",
      "User: I'm sorry to trouble you but is there an expensive Indian restaurant in the east? It would be more\n",
      "Wizard: There are five, would you like me to book you one?\n",
      "User: Yes, book one of the expensive Indian places in the east please.\n",
      "Wizard: Which day would you like to dine?\n",
      "User: I would like to go on Monday at 18:00 please.\n",
      "Wizard: I would love to help! how many people?\n",
      "User: It will be a party of 6.\n",
      "Wizard: None of the restaurants were available for that time. Would you like me to try a different time?\n",
      "User: Yes. Please try 17:00.\n",
      "Wizard: THANKS VERY MUCH\n",
      "TARGET:\n",
      "Thank you also. Could I receive the reference number for the reservation, please?\n",
      "CANDIDATES:\n",
      "Please book a table for 16 people at 15:00 on Monday. [1.0] [generated]\n",
      "\n",
      "ID:  SNG02147\n",
      "INPUT:\n",
      "Wizard: Hello, how may I help you?\n",
      "User: I need to book a taxi from the junction and I need to arrive by 04:00.\n",
      "Wizard: Sure! Where are you coming from?\n",
      "TARGET:\n",
      "I need picked up at the junction, I will be going to regency gallery.\n",
      "CANDIDATES:\n",
      "I will be arriving from the main branch of the bank. [2.338] [generated]\n",
      "I'm coming from saffron brasserie. [2.338] [retrieved]\n",
      "\n",
      "ID:  SNG1179\n",
      "INPUT:\n",
      "Wizard: Hello, how may I help you?\n",
      "User: I need to find a restaurant in anatolia\n",
      "Wizard: Okay Anatolia is a turkish restaurant located in the centre. Is this what you're looking for?\n",
      "User: Yes. I need a reservation for 8 people please.\n",
      "Wizard: I can make a reservation for 8 people for Monday at 17:45. Is that okay or would you like another day?\n",
      "User: I need a reservation for 8 people at 13:00 on Friday. If that doesn't work I can also do Tuesday. I will also\n",
      "Wizard: Reservations for Friday at 13:00. Your reference number is 0UAYWI5Z. Is there anything else I can assist you\n",
      "TARGET:\n",
      "No that was it, thank you.\n",
      "CANDIDATES:\n",
      "No, thank you. [-0.317] [retrieved]\n",
      "No, thank you. [-0.317] [generated]\n",
      "\n",
      "ID:  SNG0284\n",
      "INPUT:\n",
      "Wizard: Hello, how may I help you?\n",
      "User: I want a train from london liverpool street arriving at 9:30\n",
      "Wizard: Which day will you be traveling?\n",
      "User: I want to leave on Thursday.\n",
      "Wizard: Ok, I should be able to do that for you.\n",
      "User: I want to go to Cambridge, how much will that cost?\n",
      "Wizard: There are three trains that will fit your needs, and the tickets are 16.60 pounds each. Would you like me to\n",
      "User: Yes, that sounds good. Thank you.\n",
      "Wizard: Would you like me to book that for you?\n",
      "User: Can you tell me how much the ticket is?\n",
      "Wizard: Yes, there are 3 that cost 16.60 pounds. You could leave at 5:39 if you 'd like. Can I book that for you?\n",
      "TARGET:\n",
      "No, thanks. No need. I will do that later. Thank you for all the info. Have a nice day.\n",
      "CANDIDATES:\n",
      "Yes, can you book it for 5 people and please give me the reference number. [2.755] [retrieved]\n",
      "No, that's fine. I 'll be sure to go ahead and book that for now [2.755] [generated]\n",
      "\n",
      "ID:  SNG01317\n",
      "INPUT:\n",
      "Wizard: Hello, how may I help you?\n",
      "User: I would like a taxi please\n",
      "Wizard: I would be happy to help with your request, fist I 'll need to know your departure site / destination.\n",
      "User: What time do you need at taxi and from where?\n",
      "Wizard: Where would you like to be picked up from?\n",
      "User: I actually need to arrive at 19:30.\n",
      "Wizard: I 'd be happy to help! Where are you coming from?\n",
      "User: I am departing from frankie and bennys\n",
      "Wizard: I can help you with that. where are you going?\n",
      "User: I'm going to caffe uno.\n",
      "Wizard: Your taxi is booked. It is a grey Volkswagen with the contact number 07111100101.\n",
      "User: Thank you. I'm glad it's taken care of.\n",
      "Wizard: You are welcome. Do you need help with anything else?\n",
      "TARGET:\n",
      "There is nothing more, thank you. Goodbye.\n",
      "CANDIDATES:\n",
      "No. That's all. [1.0] [generated]\n",
      "\n",
      "ID:  SNG0192\n",
      "INPUT:\n",
      "Wizard: Hello, how may I help you?\n",
      "User: Can you give me the contact info for the nearest police station?\n",
      "Wizard: Sure! The Parkside Police Station is located at Parkside, Cambridge and can be reached at 01223358966.\n",
      "TARGET:\n",
      "Thank you very much. I will contact them now.\n",
      "CANDIDATES:\n",
      "Thank you, that is all I need today. [3.001] [retrieved]\n",
      "Thank you, that is all I need today. [3.001] [generated]\n",
      "\n",
      "ID:  SNG0671\n",
      "INPUT:\n",
      "Wizard: Hello, how may I help you?\n",
      "User: I am looking for a restaurant serving Persian food in the expensive price range.\n",
      "Wizard: I'm sorry, there aren't any expensive Persian restaurants. Would you like me to check for a different type of\n",
      "User: How about any restaurant in the centre?\n",
      "Wizard: There are 33 expensive restaurants in the center of town. Which cuisine type would you prefer?\n",
      "User: I think I 'd like to try Indian food, are there any of those in the center of town?\n",
      "Wizard: There are 6 restaurants that fit your request. Curry Garden, The Golden Curry, Saffron Brasserie, Panahar,\n",
      "User: Any of them would be fine.\n",
      "Wizard: Alright, shall I make a reservation for the Curry King?\n",
      "User: Yes please, for 3 people t 15:30 on Friday. Thank you.\n",
      "Wizard: Okay done. The reference number for your table is BVK9XZPJ and it is only reserved for 15 minutes.\n",
      "TARGET:\n",
      "That's awesome. Thanks that's all i need!\n",
      "CANDIDATES:\n",
      "Wonderful. Thank you so much for your assistance. [0.104] [retrieved]\n",
      "That is all I need. Have a great day. [0.003] [generated]\n",
      "\n"
     ]
    }
   ],
   "source": [
    "min_preds = min_max_preds['min']\n",
    "for _, pred in min_preds:\n",
    "    print_prediction(pred)\n",
    "    print('')"
   ]
  },
  {
   "cell_type": "markdown",
   "metadata": {},
   "source": [
    "### Prediction with the most distant retrieved and generated scores"
   ]
  },
  {
   "cell_type": "code",
   "execution_count": 128,
   "metadata": {
    "scrolled": false
   },
   "outputs": [
    {
     "name": "stdout",
     "output_type": "stream",
     "text": [
      "ID:  SNG1313\n",
      "INPUT:\n",
      "Wizard: Hello, how may I help you?\n",
      "User: i am looking for a train. The train should leave on Monday and should arrive by 12:45.\n",
      "Wizard: Where would you like to go?\n",
      "TARGET:\n",
      "I would like to depart from Cambridge, and travel to Bishops Stortford.\n",
      "CANDIDATES:\n",
      "i would like to go to Cambridge. [5.253] [generated]\n",
      "I would like to leave after 09:00 on Sunday. [-11.019] [retrieved]\n",
      "\n",
      "ID:  SNG0481\n",
      "INPUT:\n",
      "Wizard: Hello, how may I help you?\n",
      "User: Hi, I'm looking for an Indian restaurant. I 'd prefer something on the west side.\n",
      "Wizard: I have found 6 restaurants meeting your criteria. Rice boat is a good choice. Would you like me to book you a\n",
      "User: I'm looking for something in the fine dining price range, so the place should be expensive. Are there any\n",
      "Wizard: Absolutely, there are a few choices. How about Tandoori Palace on Histon Road?\n",
      "TARGET:\n",
      "That sounds good. may I have their postcode, address, and phone number?\n",
      "CANDIDATES:\n",
      "Tandoori Palace sounds good, how about another restaurant that sounds like it would work? [4.469] [generated]\n",
      "Yes, the Dojo Noodle Bar sounds perfect. [-9.059] [retrieved]\n",
      "\n",
      "ID:  SNG0223\n",
      "INPUT:\n",
      "Wizard: Hello, how may I help you?\n",
      "User: I've just been robbed and I need some help.\n",
      "Wizard: I'm sorry to hear that. There is a police station on Parkside, Cambridge CB11JG and the phone number is\n",
      "TARGET:\n",
      "No that will be all, thank you.\n",
      "CANDIDATES:\n",
      "What is their postcode? [1.339] [retrieved]\n",
      "I've just been robbed and I need help to find out where to go. 999 999 999 [-13.922] [generated]\n",
      "\n",
      "ID:  SNG0392\n",
      "INPUT:\n",
      "Wizard: Hello, how may I help you?\n",
      "User: Hello there. I am trying to locate a train for Monday.\n",
      "Wizard: Sure. Where will you be going?\n",
      "User: I am going to Cambridge.\n",
      "Wizard: All right, and where would you like to depart from?\n",
      "User: I 'll will be leaving from London Liverpool Street.\n",
      "Wizard: I've got 10 trains that are on that route. Do you have a preferred departure or arrival time?\n",
      "User: I need on that will leave London after 21:00.\n",
      "Wizard: I have two trains that will leave after 21:00. One leaves at 21:39 and one leaves at 23:39. Which would you\n",
      "TARGET:\n",
      "What time does the one that leaves at 21:39 arrive in Cambridge? Also, what is the train ID?\n",
      "CANDIDATES:\n",
      "I don't actually need to book at the moment. I just need to know the departure time and travel time for this train, if you don't [0.699] [retrieved]\n",
      "I 'd like to leave after 21:00 and leave the train that leaves after 21:00 [-12.611] [generated]\n",
      "\n",
      "ID:  SNG0132\n",
      "INPUT:\n",
      "Wizard: Hello, how may I help you?\n",
      "User: I'm looking for a restaurant in the west side that's in the moderate price range.\n",
      "Wizard: I have three listings, one for british, indian, italian. Are any of those types of food you are looking for?\n",
      "User: Are any of them available for 8 people at 19:00 on Wednesday?\n",
      "Wizard: There are two restaurants available the Indian restaurant Meghna and the Italian restaurant Prezzo 8 people\n",
      "TARGET:\n",
      "The Italian restaurant Prezzo sounds good.\n",
      "CANDIDATES:\n",
      "Prezzo 8 will be great, how about Meghna? [7.966] [generated]\n",
      "Let's try the Brasserie. [-6.55] [retrieved]\n",
      "\n",
      "ID:  MUL2623\n",
      "INPUT:\n",
      "Wizard: Hello, how may I help you?\n",
      "User: I'm looking for a cheap guesthouse to stay in while I'm in town.\n",
      "Wizard: Do you have a preferred section of town?\n",
      "User: Not really, but I want free wifi and it should be 4 star.\n",
      "Wizard: I have several places. Are you sure you don't have an area you prefer?\n",
      "User: It doesn't matter which area it's in. Which would you recommend?\n",
      "Wizard: A lot of people like Autumn House in the east part of town, they're very economically priced. Would you like\n",
      "TARGET:\n",
      "Great can you book that for 7 people for 4 nights starting tuesday?\n",
      "CANDIDATES:\n",
      "Sure, that's fine. I 'd like to book it for 6 people, with a [2.686] [generated]\n",
      "Cambridge Belfry sounds great, can I get the reference number once you make that reservation? [-10.335] []\n",
      "\n",
      "ID:  SNG1262\n",
      "INPUT:\n",
      "Wizard: Hello, how may I help you?\n",
      "User: I am looking for information about city stop restaurant?\n",
      "Wizard: I have pulled up City Stop Restaurant. What information do you need?\n",
      "TARGET:\n",
      "I would like to book a table there for 4 peole on saturday at 19:45. and can i please get a reference number?\n",
      "CANDIDATES:\n",
      "Is it in the center? [1.743] [generated]\n",
      "No that's fine. Just book me a table for 2 people at 13:00 on Saturday. [-11.325] [retrieved]\n",
      "\n",
      "ID:  SNG0193\n",
      "INPUT:\n",
      "Wizard: Hello, how may I help you?\n",
      "User: I am looking for city centre north b and b\n",
      "Wizard: I have found the guesthouse you were wanting. Would you like me to book this for you?\n",
      "TARGET:\n",
      "Yes, please book it for 1 person and for 5 nights starting Friday.\n",
      "CANDIDATES:\n",
      "Yes please book it for 5 people. [0.706] [generated]\n",
      "Do any of those include free parking? [-11.545] [retrieved]\n",
      "\n",
      "ID:  SNG0181\n",
      "INPUT:\n",
      "Wizard: Hello, how may I help you?\n",
      "User: I want to find a seafood restaurant in the centre\n",
      "Wizard: I've found one seafood restaurant in the centre. Would you like to know more about it?\n",
      "User: No that's fine. Just book me a table for 2 people at 13:00 on Saturday.\n",
      "Wizard: The restaurant is Loch Fyne. They don't have any availability at that time. Would you like me to try a\n",
      "User: Let's try a different restaurant in the same area and price range please.\n",
      "Wizard: There are 5 expensive restaurants in the centre. One serves African, one serves Asian, and three serve\n",
      "TARGET:\n",
      "The African restaurant sounds great. Can you make a reservation for 2 at 13:00 this Saturday?\n",
      "CANDIDATES:\n",
      "The French one please, and the Asian one please. [3.239] [generated]\n",
      "Nope! Could you pick your favorite and book a table for me? 2 people at 12:30 on Tuesday, please. [-9.746] []\n",
      "\n",
      "ID:  SNG0671\n",
      "INPUT:\n",
      "Wizard: Hello, how may I help you?\n",
      "User: I am looking for a restaurant serving Persian food in the expensive price range.\n",
      "Wizard: I'm sorry, there aren't any expensive Persian restaurants. Would you like me to check for a different type of\n",
      "User: How about any restaurant in the centre?\n",
      "Wizard: There are 33 expensive restaurants in the center of town. Which cuisine type would you prefer?\n",
      "User: I think I 'd like to try Indian food, are there any of those in the center of town?\n",
      "Wizard: There are 6 restaurants that fit your request. Curry Garden, The Golden Curry, Saffron Brasserie, Panahar,\n",
      "User: Any of them would be fine.\n",
      "Wizard: Alright, shall I make a reservation for the Curry King?\n",
      "User: Yes please, for 3 people t 15:30 on Friday. Thank you.\n",
      "Wizard: Okay done. The reference number for your table is BVK9XZPJ and it is only reserved for 15 minutes.\n",
      "TARGET:\n",
      "That's awesome. Thanks that's all i need!\n",
      "CANDIDATES:\n",
      "Wonderful. Thank you so much for your assistance. [0.104] [retrieved]\n",
      "That is all I need. Have a great day. [0.003] [generated]\n",
      "\n"
     ]
    }
   ],
   "source": [
    "max_preds = min_max_preds['max']\n",
    "for _, pred in max_preds:\n",
    "    print_prediction(pred)\n",
    "    print('')"
   ]
  },
  {
   "cell_type": "markdown",
   "metadata": {},
   "source": [
    "### Histogram of distances between the gen/ret candidates' scores"
   ]
  },
  {
   "cell_type": "code",
   "execution_count": 130,
   "metadata": {},
   "outputs": [
    {
     "data": {
      "image/png": "[encoded data removed]",
      "text/plain": [
       "<Figure size 432x288 with 1 Axes>"
      ]
     },
     "metadata": {
      "needs_background": "light"
     },
     "output_type": "display_data"
    }
   ],
   "source": [
    "plt.hist([dist for dist in distances if dist is not None], bins=10)\n",
    "plt.show()"
   ]
  },
  {
   "cell_type": "markdown",
   "metadata": {},
   "source": [
    "### Histogram of distances - zero/non-zero"
   ]
  },
  {
   "cell_type": "code",
   "execution_count": 131,
   "metadata": {},
   "outputs": [
    {
     "data": {
      "image/png": "[encoded data removed]",
      "text/plain": [
       "<Figure size 432x288 with 1 Axes>"
      ]
     },
     "metadata": {
      "needs_background": "light"
     },
     "output_type": "display_data"
    }
   ],
   "source": [
    "plt.hist([int(distance != 0.0) for distance in distances if distance is not None], bins=10)\n",
    "plt.show()"
   ]
  },
  {
   "cell_type": "markdown",
   "metadata": {},
   "source": [
    "### NLG-Eval metrics between ground truth targets and generated/retrieved responses"
   ]
  },
  {
   "cell_type": "code",
   "execution_count": 132,
   "metadata": {},
   "outputs": [],
   "source": [
    "targets, gen_candidates, ret_candidates = [], [], []\n",
    "for prediction in log:\n",
    "    candidates = prediction['candidates']\n",
    "    gen_candidates_i = [candidate['utterance'] for candidate in candidates\n",
    "                        if candidate['method'] == 'generated']\n",
    "    ret_candidates_i = [candidate['utterance'] for candidate in candidates\n",
    "                        if candidate['method'] == 'retrieved']\n",
    "    if not len(ret_candidates_i) or not len(gen_candidates_i):\n",
    "        continue\n",
    "    targets.append(prediction['target'])\n",
    "    gen_candidates.append(gen_candidates_i[0])\n",
    "    ret_candidates.append(ret_candidates_i[0])"
   ]
  },
  {
   "cell_type": "code",
   "execution_count": 133,
   "metadata": {},
   "outputs": [
    {
     "data": {
      "text/plain": [
       "{'Bleu_1': 0.14955109483649628,\n",
       " 'Bleu_2': 0.08277910458148781,\n",
       " 'Bleu_3': 0.05136282278236329,\n",
       " 'Bleu_4': 0.03196999204230297,\n",
       " 'METEOR': 0.10814399980936394,\n",
       " 'ROUGE_L': 0.15344245543239704,\n",
       " 'CIDEr': 0.2639145591876558}"
      ]
     },
     "execution_count": 133,
     "metadata": {},
     "output_type": "execute_result"
    }
   ],
   "source": [
    "NLGEVAL.compute_metrics([targets], gen_candidates)"
   ]
  },
  {
   "cell_type": "code",
   "execution_count": 134,
   "metadata": {},
   "outputs": [
    {
     "data": {
      "text/plain": [
       "{'Bleu_1': 0.16155129289626197,\n",
       " 'Bleu_2': 0.0891345862870597,\n",
       " 'Bleu_3': 0.05578943546678236,\n",
       " 'Bleu_4': 0.03536344030926011,\n",
       " 'METEOR': 0.11407574794797835,\n",
       " 'ROUGE_L': 0.15155906418256765,\n",
       " 'CIDEr': 0.2824172075692828}"
      ]
     },
     "execution_count": 134,
     "metadata": {},
     "output_type": "execute_result"
    }
   ],
   "source": [
    "NLGEVAL.compute_metrics([targets], ret_candidates)"
   ]
  }
 ],
 "metadata": {
  "kernelspec": {
   "display_name": "Python 3",
   "language": "python",
   "name": "python3"
  },
  "language_info": {
   "codemirror_mode": {
    "name": "ipython",
    "version": 3
   },
   "file_extension": ".py",
   "mimetype": "text/x-python",
   "name": "python",
   "nbconvert_exporter": "python",
   "pygments_lexer": "ipython3",
   "version": "3.7.0"
  }
 },
 "nbformat": 4,
 "nbformat_minor": 4
}
