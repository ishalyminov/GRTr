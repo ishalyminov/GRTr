{
 "cells": [
  {
   "cell_type": "code",
   "execution_count": 2,
   "metadata": {},
   "outputs": [],
   "source": [
    "import json\n",
    "\n",
    "import numpy as np"
   ]
  },
  {
   "cell_type": "code",
   "execution_count": 26,
   "metadata": {},
   "outputs": [],
   "source": [
    "def get_min_max_candidate_pairs(in_predictions):\n",
    "    min_distance, max_distance = np.inf, -np.inf\n",
    "    min_distance_pred, max_distance_pred = None, None\n",
    "\n",
    "    for pred in in_predictions:\n",
    "        scores = list(map(lambda x: x['score'], pred['candidates']))\n",
    "        if not len(scores):\n",
    "            continue\n",
    "        min_score, max_score = min(scores), max(scores)\n",
    "        if max_score - min_score < min_distance:\n",
    "            min_distance = max_score - min_score\n",
    "            min_distance_pred = pred\n",
    "        if max_distance < max_score - min_score:\n",
    "            max_distance = max_score - min_score\n",
    "            max_distance_pred = pred\n",
    "    return {'min': {'distance': min_distance, 'prediction': min_distance_pred},\n",
    "            'max': {'distance': max_distance, 'prediction': max_distance_pred}}"
   ]
  },
  {
   "cell_type": "code",
   "execution_count": 15,
   "metadata": {},
   "outputs": [],
   "source": [
    "def print_prediction(in_prediction):\n",
    "    print('ID: ', in_prediction['id'])\n",
    "    print('INPUT:')\n",
    "    for turn in in_prediction['input']:\n",
    "        print('{}: {}'.format(turn['side'], turn['utterance']))\n",
    "    print('TARGET:')\n",
    "    print(in_prediction['target'])\n",
    "    print('CANDIDATES:')\n",
    "    for cand_turn in in_prediction['candidates']:\n",
    "        print('{} [{}] [{}]'.format(cand_turn['utterance'], cand_turn['score'], cand_turn['method']))"
   ]
  },
  {
   "cell_type": "code",
   "execution_count": 4,
   "metadata": {},
   "outputs": [],
   "source": [
    "LOG_FILES = ['metalwoz_pure_ext_info_parsed.json', 'metalwoz_pure_ext_info_parsed.json', 'multiwoz_ext_info_parsed.json']"
   ]
  },
  {
   "cell_type": "code",
   "execution_count": 5,
   "metadata": {},
   "outputs": [],
   "source": [
    "logs = []\n",
    "for log_file in LOG_FILES:\n",
    "    with open(log_file) as log_in:\n",
    "        logs.append(json.load(log_in))"
   ]
  },
  {
   "cell_type": "markdown",
   "metadata": {},
   "source": [
    "# MetaLWOz pure task"
   ]
  },
  {
   "cell_type": "code",
   "execution_count": 8,
   "metadata": {},
   "outputs": [],
   "source": [
    "min_max_preds = get_min_max_candidate_pairs(logs[0])"
   ]
  },
  {
   "cell_type": "markdown",
   "metadata": {},
   "source": [
    "### Prediction with the closest retrieved and generated scores"
   ]
  },
  {
   "cell_type": "code",
   "execution_count": 16,
   "metadata": {},
   "outputs": [
    {
     "name": "stdout",
     "output_type": "stream",
     "text": [
      "ID:  0dd81289\n",
      "INPUT:\n",
      "Wizard: Hello how may I help you?\n",
      "User: Hello, can you help me with my reservation?\n",
      "Wizard: I sure can. Can you please give me a reservation number?\n",
      "User: The number is 572839\n",
      "Wizard: Thanks! What do you need help with?\n",
      "User: I want to cancel my reservation in New York.\n",
      "Wizard: Unfortunately, I can not cancel reservations. You need to contact the hotel directly. I can give you the\n",
      "User: can you give me the number?\n",
      "Wizard: Sure. The number io 888-888-8888.\n",
      "TARGET:\n",
      "Okay I'll call them right now and\n",
      "CANDIDATES:\n",
      "thank you [2.483] [retrieved]\n",
      "thank you [2.483] [generated]\n"
     ]
    }
   ],
   "source": [
    "min_pred = min_max_preds['min']\n",
    "print_prediction(min_pred['prediction'])"
   ]
  },
  {
   "cell_type": "markdown",
   "metadata": {},
   "source": [
    "### Prediction with the most distant retrieved and generated scores"
   ]
  },
  {
   "cell_type": "code",
   "execution_count": 17,
   "metadata": {
    "scrolled": true
   },
   "outputs": [
    {
     "name": "stdout",
     "output_type": "stream",
     "text": [
      "ID:  c9595979\n",
      "INPUT:\n",
      "Wizard: Hello how may I help you?\n",
      "User: I need some tourism help.\n",
      "Wizard: where would you like to travel to?\n",
      "User: Montreal. I''m going there this summer. Where are some good spots to go?\n",
      "Wizard: it depends on how much your are willing ti spent.\n",
      "User: Well, I'm looking for some festivals in the area around that time. Can you just give me some suggestions?\n",
      "Wizard: what is your budget?\n",
      "TARGET:\n",
      "Budget doesn't matter. I just want to know where I can go.\n",
      "CANDIDATES:\n",
      "My budget is $15.00 per ticket. [2.109] [generated]\n",
      "Great! Thanks so muvh [-14.034] [retrieved]\n"
     ]
    }
   ],
   "source": [
    "max_pred = min_max_preds['max']\n",
    "print_prediction(max_pred['prediction'])"
   ]
  },
  {
   "cell_type": "markdown",
   "metadata": {},
   "source": [
    "# MetaLWOz cross task"
   ]
  },
  {
   "cell_type": "code",
   "execution_count": 18,
   "metadata": {},
   "outputs": [],
   "source": [
    "min_max_preds = get_min_max_candidate_pairs(logs[1])"
   ]
  },
  {
   "cell_type": "markdown",
   "metadata": {},
   "source": [
    "### Prediction with the closest retrieved and generated scores"
   ]
  },
  {
   "cell_type": "code",
   "execution_count": 19,
   "metadata": {},
   "outputs": [
    {
     "name": "stdout",
     "output_type": "stream",
     "text": [
      "ID:  0dd81289\n",
      "INPUT:\n",
      "Wizard: Hello how may I help you?\n",
      "User: Hello, can you help me with my reservation?\n",
      "Wizard: I sure can. Can you please give me a reservation number?\n",
      "User: The number is 572839\n",
      "Wizard: Thanks! What do you need help with?\n",
      "User: I want to cancel my reservation in New York.\n",
      "Wizard: Unfortunately, I can not cancel reservations. You need to contact the hotel directly. I can give you the\n",
      "User: can you give me the number?\n",
      "Wizard: Sure. The number io 888-888-8888.\n",
      "TARGET:\n",
      "Okay I'll call them right now and\n",
      "CANDIDATES:\n",
      "thank you [2.483] [retrieved]\n",
      "thank you [2.483] [generated]\n"
     ]
    }
   ],
   "source": [
    "min_pred = min_max_preds['min']\n",
    "print_prediction(min_pred['prediction'])"
   ]
  },
  {
   "cell_type": "markdown",
   "metadata": {},
   "source": [
    "### Prediction with the most distant retrieved and generated scores"
   ]
  },
  {
   "cell_type": "code",
   "execution_count": 20,
   "metadata": {},
   "outputs": [
    {
     "name": "stdout",
     "output_type": "stream",
     "text": [
      "ID:  c9595979\n",
      "INPUT:\n",
      "Wizard: Hello how may I help you?\n",
      "User: I need some tourism help.\n",
      "Wizard: where would you like to travel to?\n",
      "User: Montreal. I''m going there this summer. Where are some good spots to go?\n",
      "Wizard: it depends on how much your are willing ti spent.\n",
      "User: Well, I'm looking for some festivals in the area around that time. Can you just give me some suggestions?\n",
      "Wizard: what is your budget?\n",
      "TARGET:\n",
      "Budget doesn't matter. I just want to know where I can go.\n",
      "CANDIDATES:\n",
      "My budget is $15.00 per ticket. [2.109] [generated]\n",
      "Great! Thanks so muvh [-14.034] [retrieved]\n"
     ]
    }
   ],
   "source": [
    "max_pred = min_max_preds['max']\n",
    "print_prediction(max_pred['prediction'])"
   ]
  },
  {
   "cell_type": "markdown",
   "metadata": {},
   "source": [
    "# MultiWoz"
   ]
  },
  {
   "cell_type": "code",
   "execution_count": 27,
   "metadata": {},
   "outputs": [],
   "source": [
    "min_max_preds = get_min_max_candidate_pairs(logs[2])"
   ]
  },
  {
   "cell_type": "markdown",
   "metadata": {},
   "source": [
    "### Prediction with the closest retrieved and generated scores"
   ]
  },
  {
   "cell_type": "code",
   "execution_count": 28,
   "metadata": {},
   "outputs": [
    {
     "name": "stdout",
     "output_type": "stream",
     "text": [
      "ID:  SNG0284\n",
      "INPUT:\n",
      "Wizard: Hello, how may I help you?\n",
      "User: I want a train from london liverpool street arriving at 9:30\n",
      "Wizard: Which day will you be traveling?\n",
      "User: I want to leave on Thursday.\n",
      "Wizard: Ok, I should be able to do that for you.\n",
      "User: I want to go to Cambridge, how much will that cost?\n",
      "Wizard: There are three trains that will fit your needs, and the tickets are 16.60 pounds each. Would you like me to\n",
      "User: Yes, that sounds good. Thank you.\n",
      "Wizard: Would you like me to book that for you?\n",
      "User: Can you tell me how much the ticket is?\n",
      "Wizard: Yes, there are 3 that cost 16.60 pounds. You could leave at 5:39 if you 'd like. Can I book that for you?\n",
      "TARGET:\n",
      "No, thanks. No need. I will do that later. Thank you for all the info. Have a nice day.\n",
      "CANDIDATES:\n",
      "Yes, can you book it for 5 people and please give me the reference number. [2.755] [retrieved]\n",
      "No, that's fine. I 'll be sure to go ahead and book that for now [2.755] [generated]\n"
     ]
    }
   ],
   "source": [
    "min_pred = min_max_preds['min']\n",
    "print_prediction(min_pred['prediction'])"
   ]
  },
  {
   "cell_type": "markdown",
   "metadata": {},
   "source": [
    "### Prediction with the most distant retrieved and generated scores"
   ]
  },
  {
   "cell_type": "code",
   "execution_count": 29,
   "metadata": {},
   "outputs": [
    {
     "name": "stdout",
     "output_type": "stream",
     "text": [
      "ID:  SNG1313\n",
      "INPUT:\n",
      "Wizard: Hello, how may I help you?\n",
      "User: i am looking for a train. The train should leave on Monday and should arrive by 12:45.\n",
      "Wizard: Where would you like to go?\n",
      "TARGET:\n",
      "I would like to depart from Cambridge, and travel to Bishops Stortford.\n",
      "CANDIDATES:\n",
      "i would like to go to Cambridge. [5.253] [generated]\n",
      "I would like to leave after 09:00 on Sunday. [-11.019] [retrieved]\n"
     ]
    }
   ],
   "source": [
    "max_pred = min_max_preds['max']\n",
    "print_prediction(max_pred['prediction'])"
   ]
  }
 ],
 "metadata": {
  "kernelspec": {
   "display_name": "Python 3",
   "language": "python",
   "name": "python3"
  },
  "language_info": {
   "codemirror_mode": {
    "name": "ipython",
    "version": 3
   },
   "file_extension": ".py",
   "mimetype": "text/x-python",
   "name": "python",
   "nbconvert_exporter": "python",
   "pygments_lexer": "ipython3",
   "version": "3.7.0"
  }
 },
 "nbformat": 4,
 "nbformat_minor": 4
}
